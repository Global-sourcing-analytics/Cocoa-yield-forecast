{
 "cells": [
  {
   "cell_type": "code",
   "execution_count": 113,
   "metadata": {},
   "outputs": [],
   "source": [
    "#Load the required libraries\n",
    "import pandas as pd\n",
    "import numpy as np\n",
    "import seaborn as sns\n",
    "import os\n",
    "import matplotlib.pyplot as plt\n",
    "\n",
    "from dataprep.eda import create_report"
   ]
  },
  {
   "cell_type": "code",
   "execution_count": 160,
   "metadata": {},
   "outputs": [],
   "source": [
    "# In order to reduce the time of importing the .csv was used as a storage type.\n",
    "# Thanks to that time is reduced from 6:30 minutes to 12 seconds\n",
    "df = pd.read_csv('NOAA_raw.csv')"
   ]
  },
  {
   "attachments": {},
   "cell_type": "markdown",
   "metadata": {},
   "source": [
    "Należy odrzucić Indonezję oraz Ekwador, ponieważ te kraje nie są brane pod uwagę w przypadku danych dotyczących zbiorów."
   ]
  },
  {
   "cell_type": "code",
   "execution_count": 161,
   "metadata": {},
   "outputs": [],
   "source": [
    "df = df.drop(df[df[\"COUNTRYNAME\"] == \"INDONESIA\"].index, inplace=False)\n",
    "df = df.drop(df[df[\"COUNTRYNAME\"] == \"ECUADOR\"].index, inplace=False)"
   ]
  },
  {
   "cell_type": "code",
   "execution_count": 138,
   "metadata": {},
   "outputs": [
    {
     "data": {
      "text/plain": [
       "array(['BRAZIL', 'CAMEROON', 'GHANA', \"COTE D'IVOIRE\"], dtype=object)"
      ]
     },
     "execution_count": 138,
     "metadata": {},
     "output_type": "execute_result"
    }
   ],
   "source": [
    "df[\"COUNTRYNAME\"].unique()"
   ]
  },
  {
   "cell_type": "code",
   "execution_count": 139,
   "metadata": {},
   "outputs": [
    {
     "name": "stdout",
     "output_type": "stream",
     "text": [
      "Number of rows: 1251795\n",
      "Number of columns: 57\n"
     ]
    },
    {
     "data": {
      "text/html": [
       "<div>\n",
       "<style scoped>\n",
       "    .dataframe tbody tr th:only-of-type {\n",
       "        vertical-align: middle;\n",
       "    }\n",
       "\n",
       "    .dataframe tbody tr th {\n",
       "        vertical-align: top;\n",
       "    }\n",
       "\n",
       "    .dataframe thead th {\n",
       "        text-align: right;\n",
       "    }\n",
       "</style>\n",
       "<table border=\"1\" class=\"dataframe\">\n",
       "  <thead>\n",
       "    <tr style=\"text-align: right;\">\n",
       "      <th></th>\n",
       "      <th>USAF</th>\n",
       "      <th>WBAN</th>\n",
       "      <th>STATIONNAME</th>\n",
       "      <th>CTRY</th>\n",
       "      <th>COUNTRYNAME</th>\n",
       "      <th>STATE</th>\n",
       "      <th>CALL</th>\n",
       "      <th>LAT</th>\n",
       "      <th>LON</th>\n",
       "      <th>ELEV</th>\n",
       "      <th>BEGIN</th>\n",
       "      <th>END</th>\n",
       "      <th>UseData</th>\n",
       "      <th>YEAR</th>\n",
       "      <th>MONTH</th>\n",
       "      <th>DAY</th>\n",
       "      <th>TEMP_°F</th>\n",
       "      <th>TEMP_°C</th>\n",
       "      <th>TEMP_Count</th>\n",
       "      <th>DEWP_°F</th>\n",
       "      <th>DEWP_°C</th>\n",
       "      <th>DEWP_Count</th>\n",
       "      <th>SLP</th>\n",
       "      <th>SLP_Count</th>\n",
       "      <th>STP</th>\n",
       "      <th>STP_Count</th>\n",
       "      <th>VISIB_miles</th>\n",
       "      <th>VISIB_km</th>\n",
       "      <th>VISIB_Count</th>\n",
       "      <th>WDSP_knots</th>\n",
       "      <th>WDSP_km/h</th>\n",
       "      <th>WDSP_Count</th>\n",
       "      <th>MXSPD_knots</th>\n",
       "      <th>MXSPD_km/h</th>\n",
       "      <th>GUST_knots</th>\n",
       "      <th>GUST_km/h</th>\n",
       "      <th>MAX_°F</th>\n",
       "      <th>MAX_°C</th>\n",
       "      <th>MAX_Flag</th>\n",
       "      <th>MIN_°F</th>\n",
       "      <th>MIN_°C</th>\n",
       "      <th>MIN_Flag</th>\n",
       "      <th>PRCP_inches</th>\n",
       "      <th>PRCP_mm</th>\n",
       "      <th>PRCP_Flag</th>\n",
       "      <th>SNDP_inches</th>\n",
       "      <th>SNDP_mm</th>\n",
       "      <th>Fog</th>\n",
       "      <th>RainOrDrizzle</th>\n",
       "      <th>SnowOrIcePellets</th>\n",
       "      <th>Hail</th>\n",
       "      <th>Thunder</th>\n",
       "      <th>TornadoOrFunnelCloud</th>\n",
       "      <th>ID</th>\n",
       "      <th>EntryDate</th>\n",
       "      <th>ts</th>\n",
       "      <th>DATE</th>\n",
       "    </tr>\n",
       "  </thead>\n",
       "  <tbody>\n",
       "    <tr>\n",
       "      <th>0</th>\n",
       "      <td>749024</td>\n",
       "      <td>99999</td>\n",
       "      <td>OYAPOCK</td>\n",
       "      <td>BR</td>\n",
       "      <td>BRAZIL</td>\n",
       "      <td></td>\n",
       "      <td>SBVE</td>\n",
       "      <td>3.867</td>\n",
       "      <td>-51.817</td>\n",
       "      <td>0.0</td>\n",
       "      <td>1943-10-07</td>\n",
       "      <td>1945-10-21</td>\n",
       "      <td>True</td>\n",
       "      <td>NaN</td>\n",
       "      <td>NaN</td>\n",
       "      <td>NaN</td>\n",
       "      <td>NaN</td>\n",
       "      <td>NaN</td>\n",
       "      <td>NaN</td>\n",
       "      <td>NaN</td>\n",
       "      <td>NaN</td>\n",
       "      <td>NaN</td>\n",
       "      <td>NaN</td>\n",
       "      <td>NaN</td>\n",
       "      <td>NaN</td>\n",
       "      <td>NaN</td>\n",
       "      <td>NaN</td>\n",
       "      <td>NaN</td>\n",
       "      <td>NaN</td>\n",
       "      <td>NaN</td>\n",
       "      <td>NaN</td>\n",
       "      <td>NaN</td>\n",
       "      <td>NaN</td>\n",
       "      <td>NaN</td>\n",
       "      <td>NaN</td>\n",
       "      <td>NaN</td>\n",
       "      <td>NaN</td>\n",
       "      <td>NaN</td>\n",
       "      <td>NaN</td>\n",
       "      <td>NaN</td>\n",
       "      <td>NaN</td>\n",
       "      <td>NaN</td>\n",
       "      <td>NaN</td>\n",
       "      <td>NaN</td>\n",
       "      <td>NaN</td>\n",
       "      <td>NaN</td>\n",
       "      <td>NaN</td>\n",
       "      <td>NaN</td>\n",
       "      <td>NaN</td>\n",
       "      <td>NaN</td>\n",
       "      <td>NaN</td>\n",
       "      <td>NaN</td>\n",
       "      <td>NaN</td>\n",
       "      <td>NaN</td>\n",
       "      <td>NaN</td>\n",
       "      <td>NaN</td>\n",
       "      <td>NaN</td>\n",
       "    </tr>\n",
       "    <tr>\n",
       "      <th>2</th>\n",
       "      <td>749399</td>\n",
       "      <td>99999</td>\n",
       "      <td>IGARAPE-ACU NORTH</td>\n",
       "      <td>BR</td>\n",
       "      <td>BRAZIL</td>\n",
       "      <td></td>\n",
       "      <td></td>\n",
       "      <td>-1.067</td>\n",
       "      <td>-47.617</td>\n",
       "      <td>57.0</td>\n",
       "      <td>1945-05-14</td>\n",
       "      <td>1945-09-20</td>\n",
       "      <td>True</td>\n",
       "      <td>NaN</td>\n",
       "      <td>NaN</td>\n",
       "      <td>NaN</td>\n",
       "      <td>NaN</td>\n",
       "      <td>NaN</td>\n",
       "      <td>NaN</td>\n",
       "      <td>NaN</td>\n",
       "      <td>NaN</td>\n",
       "      <td>NaN</td>\n",
       "      <td>NaN</td>\n",
       "      <td>NaN</td>\n",
       "      <td>NaN</td>\n",
       "      <td>NaN</td>\n",
       "      <td>NaN</td>\n",
       "      <td>NaN</td>\n",
       "      <td>NaN</td>\n",
       "      <td>NaN</td>\n",
       "      <td>NaN</td>\n",
       "      <td>NaN</td>\n",
       "      <td>NaN</td>\n",
       "      <td>NaN</td>\n",
       "      <td>NaN</td>\n",
       "      <td>NaN</td>\n",
       "      <td>NaN</td>\n",
       "      <td>NaN</td>\n",
       "      <td>NaN</td>\n",
       "      <td>NaN</td>\n",
       "      <td>NaN</td>\n",
       "      <td>NaN</td>\n",
       "      <td>NaN</td>\n",
       "      <td>NaN</td>\n",
       "      <td>NaN</td>\n",
       "      <td>NaN</td>\n",
       "      <td>NaN</td>\n",
       "      <td>NaN</td>\n",
       "      <td>NaN</td>\n",
       "      <td>NaN</td>\n",
       "      <td>NaN</td>\n",
       "      <td>NaN</td>\n",
       "      <td>NaN</td>\n",
       "      <td>NaN</td>\n",
       "      <td>NaN</td>\n",
       "      <td>NaN</td>\n",
       "      <td>NaN</td>\n",
       "    </tr>\n",
       "    <tr>\n",
       "      <th>3</th>\n",
       "      <td>749400</td>\n",
       "      <td>99999</td>\n",
       "      <td>BOCAIUVA SOUTHEAST</td>\n",
       "      <td>BR</td>\n",
       "      <td>BRAZIL</td>\n",
       "      <td></td>\n",
       "      <td></td>\n",
       "      <td>-17.200</td>\n",
       "      <td>-43.667</td>\n",
       "      <td>828.0</td>\n",
       "      <td>1947-04-06</td>\n",
       "      <td>1947-05-23</td>\n",
       "      <td>True</td>\n",
       "      <td>NaN</td>\n",
       "      <td>NaN</td>\n",
       "      <td>NaN</td>\n",
       "      <td>NaN</td>\n",
       "      <td>NaN</td>\n",
       "      <td>NaN</td>\n",
       "      <td>NaN</td>\n",
       "      <td>NaN</td>\n",
       "      <td>NaN</td>\n",
       "      <td>NaN</td>\n",
       "      <td>NaN</td>\n",
       "      <td>NaN</td>\n",
       "      <td>NaN</td>\n",
       "      <td>NaN</td>\n",
       "      <td>NaN</td>\n",
       "      <td>NaN</td>\n",
       "      <td>NaN</td>\n",
       "      <td>NaN</td>\n",
       "      <td>NaN</td>\n",
       "      <td>NaN</td>\n",
       "      <td>NaN</td>\n",
       "      <td>NaN</td>\n",
       "      <td>NaN</td>\n",
       "      <td>NaN</td>\n",
       "      <td>NaN</td>\n",
       "      <td>NaN</td>\n",
       "      <td>NaN</td>\n",
       "      <td>NaN</td>\n",
       "      <td>NaN</td>\n",
       "      <td>NaN</td>\n",
       "      <td>NaN</td>\n",
       "      <td>NaN</td>\n",
       "      <td>NaN</td>\n",
       "      <td>NaN</td>\n",
       "      <td>NaN</td>\n",
       "      <td>NaN</td>\n",
       "      <td>NaN</td>\n",
       "      <td>NaN</td>\n",
       "      <td>NaN</td>\n",
       "      <td>NaN</td>\n",
       "      <td>NaN</td>\n",
       "      <td>NaN</td>\n",
       "      <td>NaN</td>\n",
       "      <td>NaN</td>\n",
       "    </tr>\n",
       "    <tr>\n",
       "      <th>8</th>\n",
       "      <td>816820</td>\n",
       "      <td>99999</td>\n",
       "      <td>CASTANHAL</td>\n",
       "      <td>BR</td>\n",
       "      <td>BRAZIL</td>\n",
       "      <td></td>\n",
       "      <td></td>\n",
       "      <td>-1.300</td>\n",
       "      <td>-47.950</td>\n",
       "      <td>66.5</td>\n",
       "      <td>2016-07-04</td>\n",
       "      <td>2023-03-09</td>\n",
       "      <td>True</td>\n",
       "      <td>2020.0</td>\n",
       "      <td>1.0</td>\n",
       "      <td>1.0</td>\n",
       "      <td>76.2</td>\n",
       "      <td>24.555555</td>\n",
       "      <td>22.0</td>\n",
       "      <td>72.6</td>\n",
       "      <td>22.555555</td>\n",
       "      <td>22.0</td>\n",
       "      <td>1011.2</td>\n",
       "      <td>22.0</td>\n",
       "      <td>1005.8</td>\n",
       "      <td>22.0</td>\n",
       "      <td>NaN</td>\n",
       "      <td>NaN</td>\n",
       "      <td>0.0</td>\n",
       "      <td>0.0</td>\n",
       "      <td>0.0000</td>\n",
       "      <td>22.0</td>\n",
       "      <td>0.6</td>\n",
       "      <td>1.1112</td>\n",
       "      <td>20.0</td>\n",
       "      <td>37.040</td>\n",
       "      <td>85.5</td>\n",
       "      <td>29.722222</td>\n",
       "      <td></td>\n",
       "      <td>72.9</td>\n",
       "      <td>22.722222</td>\n",
       "      <td></td>\n",
       "      <td>0.0</td>\n",
       "      <td>0.0</td>\n",
       "      <td>I</td>\n",
       "      <td>NaN</td>\n",
       "      <td>NaN</td>\n",
       "      <td>False</td>\n",
       "      <td>False</td>\n",
       "      <td>False</td>\n",
       "      <td>False</td>\n",
       "      <td>False</td>\n",
       "      <td>False</td>\n",
       "      <td>796387370.0</td>\n",
       "      <td>2021-12-26 03:27:19.353</td>\n",
       "      <td>b'\\x00\\x00\\x00\\x1a\\x9c\\x08T '</td>\n",
       "      <td>2020-01-01</td>\n",
       "    </tr>\n",
       "    <tr>\n",
       "      <th>9</th>\n",
       "      <td>816820</td>\n",
       "      <td>99999</td>\n",
       "      <td>CASTANHAL</td>\n",
       "      <td>BR</td>\n",
       "      <td>BRAZIL</td>\n",
       "      <td></td>\n",
       "      <td></td>\n",
       "      <td>-1.300</td>\n",
       "      <td>-47.950</td>\n",
       "      <td>66.5</td>\n",
       "      <td>2016-07-04</td>\n",
       "      <td>2023-03-09</td>\n",
       "      <td>True</td>\n",
       "      <td>2020.0</td>\n",
       "      <td>1.0</td>\n",
       "      <td>2.0</td>\n",
       "      <td>77.7</td>\n",
       "      <td>25.388888</td>\n",
       "      <td>19.0</td>\n",
       "      <td>73.4</td>\n",
       "      <td>23.000000</td>\n",
       "      <td>19.0</td>\n",
       "      <td>1011.3</td>\n",
       "      <td>19.0</td>\n",
       "      <td>1005.9</td>\n",
       "      <td>19.0</td>\n",
       "      <td>NaN</td>\n",
       "      <td>NaN</td>\n",
       "      <td>0.0</td>\n",
       "      <td>0.7</td>\n",
       "      <td>1.2964</td>\n",
       "      <td>19.0</td>\n",
       "      <td>12.8</td>\n",
       "      <td>23.7056</td>\n",
       "      <td>29.5</td>\n",
       "      <td>54.634</td>\n",
       "      <td>86.2</td>\n",
       "      <td>30.111111</td>\n",
       "      <td></td>\n",
       "      <td>74.3</td>\n",
       "      <td>23.500000</td>\n",
       "      <td></td>\n",
       "      <td>0.0</td>\n",
       "      <td>0.0</td>\n",
       "      <td>I</td>\n",
       "      <td>NaN</td>\n",
       "      <td>NaN</td>\n",
       "      <td>False</td>\n",
       "      <td>False</td>\n",
       "      <td>False</td>\n",
       "      <td>False</td>\n",
       "      <td>False</td>\n",
       "      <td>False</td>\n",
       "      <td>796387371.0</td>\n",
       "      <td>2021-12-26 03:27:19.353</td>\n",
       "      <td>b'\\x00\\x00\\x00\\x1a\\x9c\\x08T!'</td>\n",
       "      <td>2020-01-02</td>\n",
       "    </tr>\n",
       "  </tbody>\n",
       "</table>\n",
       "</div>"
      ],
      "text/plain": [
       "     USAF   WBAN         STATIONNAME CTRY COUNTRYNAME STATE   CALL     LAT  \\\n",
       "0  749024  99999             OYAPOCK   BR      BRAZIL        SBVE    3.867   \n",
       "2  749399  99999   IGARAPE-ACU NORTH   BR      BRAZIL               -1.067   \n",
       "3  749400  99999  BOCAIUVA SOUTHEAST   BR      BRAZIL              -17.200   \n",
       "8  816820  99999           CASTANHAL   BR      BRAZIL               -1.300   \n",
       "9  816820  99999           CASTANHAL   BR      BRAZIL               -1.300   \n",
       "\n",
       "      LON   ELEV       BEGIN         END  UseData    YEAR  MONTH  DAY  \\\n",
       "0 -51.817    0.0  1943-10-07  1945-10-21     True     NaN    NaN  NaN   \n",
       "2 -47.617   57.0  1945-05-14  1945-09-20     True     NaN    NaN  NaN   \n",
       "3 -43.667  828.0  1947-04-06  1947-05-23     True     NaN    NaN  NaN   \n",
       "8 -47.950   66.5  2016-07-04  2023-03-09     True  2020.0    1.0  1.0   \n",
       "9 -47.950   66.5  2016-07-04  2023-03-09     True  2020.0    1.0  2.0   \n",
       "\n",
       "   TEMP_°F    TEMP_°C  TEMP_Count  DEWP_°F    DEWP_°C  DEWP_Count     SLP  \\\n",
       "0      NaN        NaN         NaN      NaN        NaN         NaN     NaN   \n",
       "2      NaN        NaN         NaN      NaN        NaN         NaN     NaN   \n",
       "3      NaN        NaN         NaN      NaN        NaN         NaN     NaN   \n",
       "8     76.2  24.555555        22.0     72.6  22.555555        22.0  1011.2   \n",
       "9     77.7  25.388888        19.0     73.4  23.000000        19.0  1011.3   \n",
       "\n",
       "   SLP_Count     STP  STP_Count  VISIB_miles  VISIB_km  VISIB_Count  \\\n",
       "0        NaN     NaN        NaN          NaN       NaN          NaN   \n",
       "2        NaN     NaN        NaN          NaN       NaN          NaN   \n",
       "3        NaN     NaN        NaN          NaN       NaN          NaN   \n",
       "8       22.0  1005.8       22.0          NaN       NaN          0.0   \n",
       "9       19.0  1005.9       19.0          NaN       NaN          0.0   \n",
       "\n",
       "   WDSP_knots  WDSP_km/h  WDSP_Count  MXSPD_knots  MXSPD_km/h  GUST_knots  \\\n",
       "0         NaN        NaN         NaN          NaN         NaN         NaN   \n",
       "2         NaN        NaN         NaN          NaN         NaN         NaN   \n",
       "3         NaN        NaN         NaN          NaN         NaN         NaN   \n",
       "8         0.0     0.0000        22.0          0.6      1.1112        20.0   \n",
       "9         0.7     1.2964        19.0         12.8     23.7056        29.5   \n",
       "\n",
       "   GUST_km/h  MAX_°F     MAX_°C MAX_Flag  MIN_°F     MIN_°C MIN_Flag  \\\n",
       "0        NaN     NaN        NaN      NaN     NaN        NaN      NaN   \n",
       "2        NaN     NaN        NaN      NaN     NaN        NaN      NaN   \n",
       "3        NaN     NaN        NaN      NaN     NaN        NaN      NaN   \n",
       "8     37.040    85.5  29.722222             72.9  22.722222            \n",
       "9     54.634    86.2  30.111111             74.3  23.500000            \n",
       "\n",
       "   PRCP_inches  PRCP_mm PRCP_Flag  SNDP_inches  SNDP_mm    Fog RainOrDrizzle  \\\n",
       "0          NaN      NaN       NaN          NaN      NaN    NaN           NaN   \n",
       "2          NaN      NaN       NaN          NaN      NaN    NaN           NaN   \n",
       "3          NaN      NaN       NaN          NaN      NaN    NaN           NaN   \n",
       "8          0.0      0.0         I          NaN      NaN  False         False   \n",
       "9          0.0      0.0         I          NaN      NaN  False         False   \n",
       "\n",
       "  SnowOrIcePellets   Hail Thunder TornadoOrFunnelCloud           ID  \\\n",
       "0              NaN    NaN     NaN                  NaN          NaN   \n",
       "2              NaN    NaN     NaN                  NaN          NaN   \n",
       "3              NaN    NaN     NaN                  NaN          NaN   \n",
       "8            False  False   False                False  796387370.0   \n",
       "9            False  False   False                False  796387371.0   \n",
       "\n",
       "                 EntryDate                             ts        DATE  \n",
       "0                      NaN                            NaN         NaN  \n",
       "2                      NaN                            NaN         NaN  \n",
       "3                      NaN                            NaN         NaN  \n",
       "8  2021-12-26 03:27:19.353  b'\\x00\\x00\\x00\\x1a\\x9c\\x08T '  2020-01-01  \n",
       "9  2021-12-26 03:27:19.353  b'\\x00\\x00\\x00\\x1a\\x9c\\x08T!'  2020-01-02  "
      ]
     },
     "execution_count": 139,
     "metadata": {},
     "output_type": "execute_result"
    }
   ],
   "source": [
    "#View the data\n",
    "pd.set_option('display.max_columns', None)\n",
    "print(\"Number of rows: {0}\\nNumber of columns: {1}\".format(df.shape[0], df.shape[1]))\n",
    "df.head()"
   ]
  },
  {
   "cell_type": "code",
   "execution_count": 140,
   "metadata": {},
   "outputs": [
    {
     "name": "stdout",
     "output_type": "stream",
     "text": [
      "<class 'pandas.core.frame.DataFrame'>\n",
      "Int64Index: 1251795 entries, 0 to 2205582\n",
      "Data columns (total 57 columns):\n",
      " #   Column                Non-Null Count    Dtype  \n",
      "---  ------                --------------    -----  \n",
      " 0   USAF                  1251795 non-null  int64  \n",
      " 1   WBAN                  1251795 non-null  int64  \n",
      " 2   STATIONNAME           1251795 non-null  object \n",
      " 3   CTRY                  1251795 non-null  object \n",
      " 4   COUNTRYNAME           1251795 non-null  object \n",
      " 5   STATE                 1251721 non-null  object \n",
      " 6   CALL                  1251721 non-null  object \n",
      " 7   LAT                   1251795 non-null  float64\n",
      " 8   LON                   1251795 non-null  float64\n",
      " 9   ELEV                  1251795 non-null  float64\n",
      " 10  BEGIN                 1251795 non-null  object \n",
      " 11  END                   1251795 non-null  object \n",
      " 12  UseData               1251795 non-null  bool   \n",
      " 13  YEAR                  1251410 non-null  float64\n",
      " 14  MONTH                 1251410 non-null  float64\n",
      " 15  DAY                   1251410 non-null  float64\n",
      " 16  TEMP_°F               1251410 non-null  float64\n",
      " 17  TEMP_°C               1251410 non-null  float64\n",
      " 18  TEMP_Count            1251410 non-null  float64\n",
      " 19  DEWP_°F               1237958 non-null  float64\n",
      " 20  DEWP_°C               1237958 non-null  float64\n",
      " 21  DEWP_Count            1251410 non-null  float64\n",
      " 22  SLP                   638600 non-null   float64\n",
      " 23  SLP_Count             1251410 non-null  float64\n",
      " 24  STP                   548587 non-null   float64\n",
      " 25  STP_Count             1251410 non-null  float64\n",
      " 26  VISIB_miles           924238 non-null   float64\n",
      " 27  VISIB_km              924238 non-null   float64\n",
      " 28  VISIB_Count           1251410 non-null  float64\n",
      " 29  WDSP_knots            1210963 non-null  float64\n",
      " 30  WDSP_km/h             1210963 non-null  float64\n",
      " 31  WDSP_Count            1251410 non-null  float64\n",
      " 32  MXSPD_knots           1185086 non-null  float64\n",
      " 33  MXSPD_km/h            1185086 non-null  float64\n",
      " 34  GUST_knots            327378 non-null   float64\n",
      " 35  GUST_km/h             327378 non-null   float64\n",
      " 36  MAX_°F                1251410 non-null  float64\n",
      " 37  MAX_°C                1251410 non-null  float64\n",
      " 38  MAX_Flag              1251410 non-null  object \n",
      " 39  MIN_°F                1251410 non-null  float64\n",
      " 40  MIN_°C                1251410 non-null  float64\n",
      " 41  MIN_Flag              1251410 non-null  object \n",
      " 42  PRCP_inches           1088194 non-null  float64\n",
      " 43  PRCP_mm               1088194 non-null  float64\n",
      " 44  PRCP_Flag             1251410 non-null  object \n",
      " 45  SNDP_inches           3 non-null        float64\n",
      " 46  SNDP_mm               3 non-null        float64\n",
      " 47  Fog                   1251410 non-null  object \n",
      " 48  RainOrDrizzle         1251410 non-null  object \n",
      " 49  SnowOrIcePellets      1251410 non-null  object \n",
      " 50  Hail                  1251410 non-null  object \n",
      " 51  Thunder               1251410 non-null  object \n",
      " 52  TornadoOrFunnelCloud  1251410 non-null  object \n",
      " 53  ID                    1251410 non-null  float64\n",
      " 54  EntryDate             1251410 non-null  object \n",
      " 55  ts                    1251410 non-null  object \n",
      " 56  DATE                  1251410 non-null  object \n",
      "dtypes: bool(1), float64(35), int64(2), object(19)\n",
      "memory usage: 545.6+ MB\n"
     ]
    },
    {
     "data": {
      "text/html": [
       "<div>\n",
       "<style scoped>\n",
       "    .dataframe tbody tr th:only-of-type {\n",
       "        vertical-align: middle;\n",
       "    }\n",
       "\n",
       "    .dataframe tbody tr th {\n",
       "        vertical-align: top;\n",
       "    }\n",
       "\n",
       "    .dataframe thead th {\n",
       "        text-align: right;\n",
       "    }\n",
       "</style>\n",
       "<table border=\"1\" class=\"dataframe\">\n",
       "  <thead>\n",
       "    <tr style=\"text-align: right;\">\n",
       "      <th></th>\n",
       "      <th>count</th>\n",
       "      <th>mean</th>\n",
       "      <th>std</th>\n",
       "      <th>min</th>\n",
       "      <th>25%</th>\n",
       "      <th>50%</th>\n",
       "      <th>75%</th>\n",
       "      <th>max</th>\n",
       "    </tr>\n",
       "  </thead>\n",
       "  <tbody>\n",
       "    <tr>\n",
       "      <th>USAF</th>\n",
       "      <td>1251795.0</td>\n",
       "      <td>8.108983e+05</td>\n",
       "      <td>6.849503e+04</td>\n",
       "      <td>3.126000e+05</td>\n",
       "      <td>8.214300e+05</td>\n",
       "      <td>8.335900e+05</td>\n",
       "      <td>8.384200e+05</td>\n",
       "      <td>8.699800e+05</td>\n",
       "    </tr>\n",
       "    <tr>\n",
       "      <th>WBAN</th>\n",
       "      <td>1251795.0</td>\n",
       "      <td>9.999900e+04</td>\n",
       "      <td>0.000000e+00</td>\n",
       "      <td>9.999900e+04</td>\n",
       "      <td>9.999900e+04</td>\n",
       "      <td>9.999900e+04</td>\n",
       "      <td>9.999900e+04</td>\n",
       "      <td>9.999900e+04</td>\n",
       "    </tr>\n",
       "    <tr>\n",
       "      <th>LAT</th>\n",
       "      <td>1251795.0</td>\n",
       "      <td>-1.244480e+01</td>\n",
       "      <td>1.152776e+01</td>\n",
       "      <td>-3.375000e+01</td>\n",
       "      <td>-2.241700e+01</td>\n",
       "      <td>-1.420000e+01</td>\n",
       "      <td>-3.786000e+00</td>\n",
       "      <td>1.090000e+01</td>\n",
       "    </tr>\n",
       "    <tr>\n",
       "      <th>LON</th>\n",
       "      <td>1251795.0</td>\n",
       "      <td>-4.115050e+01</td>\n",
       "      <td>1.875304e+01</td>\n",
       "      <td>-7.278700e+01</td>\n",
       "      <td>-5.179700e+01</td>\n",
       "      <td>-4.656800e+01</td>\n",
       "      <td>-3.903300e+01</td>\n",
       "      <td>1.523300e+01</td>\n",
       "    </tr>\n",
       "    <tr>\n",
       "      <th>ELEV</th>\n",
       "      <td>1251795.0</td>\n",
       "      <td>3.339246e+02</td>\n",
       "      <td>3.346599e+02</td>\n",
       "      <td>-9.999000e+02</td>\n",
       "      <td>4.850000e+01</td>\n",
       "      <td>2.030000e+02</td>\n",
       "      <td>5.915000e+02</td>\n",
       "      <td>1.811500e+03</td>\n",
       "    </tr>\n",
       "    <tr>\n",
       "      <th>YEAR</th>\n",
       "      <td>1251410.0</td>\n",
       "      <td>2.014831e+03</td>\n",
       "      <td>6.570538e+00</td>\n",
       "      <td>2.000000e+03</td>\n",
       "      <td>2.010000e+03</td>\n",
       "      <td>2.017000e+03</td>\n",
       "      <td>2.020000e+03</td>\n",
       "      <td>2.023000e+03</td>\n",
       "    </tr>\n",
       "    <tr>\n",
       "      <th>MONTH</th>\n",
       "      <td>1251410.0</td>\n",
       "      <td>6.426069e+00</td>\n",
       "      <td>3.496278e+00</td>\n",
       "      <td>1.000000e+00</td>\n",
       "      <td>3.000000e+00</td>\n",
       "      <td>6.000000e+00</td>\n",
       "      <td>9.000000e+00</td>\n",
       "      <td>1.200000e+01</td>\n",
       "    </tr>\n",
       "    <tr>\n",
       "      <th>DAY</th>\n",
       "      <td>1251410.0</td>\n",
       "      <td>1.567366e+01</td>\n",
       "      <td>8.801878e+00</td>\n",
       "      <td>1.000000e+00</td>\n",
       "      <td>8.000000e+00</td>\n",
       "      <td>1.600000e+01</td>\n",
       "      <td>2.300000e+01</td>\n",
       "      <td>3.100000e+01</td>\n",
       "    </tr>\n",
       "    <tr>\n",
       "      <th>TEMP_°F</th>\n",
       "      <td>1251410.0</td>\n",
       "      <td>7.667841e+01</td>\n",
       "      <td>7.656385e+00</td>\n",
       "      <td>1.790000e+01</td>\n",
       "      <td>7.270000e+01</td>\n",
       "      <td>7.810000e+01</td>\n",
       "      <td>8.170000e+01</td>\n",
       "      <td>1.076000e+02</td>\n",
       "    </tr>\n",
       "    <tr>\n",
       "      <th>TEMP_°C</th>\n",
       "      <td>1251410.0</td>\n",
       "      <td>2.482134e+01</td>\n",
       "      <td>4.253547e+00</td>\n",
       "      <td>-7.833333e+00</td>\n",
       "      <td>2.261111e+01</td>\n",
       "      <td>2.561111e+01</td>\n",
       "      <td>2.761111e+01</td>\n",
       "      <td>4.200000e+01</td>\n",
       "    </tr>\n",
       "    <tr>\n",
       "      <th>TEMP_Count</th>\n",
       "      <td>1251410.0</td>\n",
       "      <td>1.739167e+01</td>\n",
       "      <td>6.880299e+00</td>\n",
       "      <td>4.000000e+00</td>\n",
       "      <td>1.200000e+01</td>\n",
       "      <td>2.000000e+01</td>\n",
       "      <td>2.400000e+01</td>\n",
       "      <td>2.400000e+01</td>\n",
       "    </tr>\n",
       "    <tr>\n",
       "      <th>DEWP_°F</th>\n",
       "      <td>1237958.0</td>\n",
       "      <td>6.594964e+01</td>\n",
       "      <td>9.446795e+00</td>\n",
       "      <td>-2.970000e+01</td>\n",
       "      <td>6.080000e+01</td>\n",
       "      <td>6.830000e+01</td>\n",
       "      <td>7.310000e+01</td>\n",
       "      <td>8.990000e+01</td>\n",
       "    </tr>\n",
       "    <tr>\n",
       "      <th>DEWP_°C</th>\n",
       "      <td>1237958.0</td>\n",
       "      <td>1.886091e+01</td>\n",
       "      <td>5.248219e+00</td>\n",
       "      <td>-3.427778e+01</td>\n",
       "      <td>1.600000e+01</td>\n",
       "      <td>2.016667e+01</td>\n",
       "      <td>2.283333e+01</td>\n",
       "      <td>3.216667e+01</td>\n",
       "    </tr>\n",
       "    <tr>\n",
       "      <th>DEWP_Count</th>\n",
       "      <td>1251410.0</td>\n",
       "      <td>1.708384e+01</td>\n",
       "      <td>7.066183e+00</td>\n",
       "      <td>0.000000e+00</td>\n",
       "      <td>1.200000e+01</td>\n",
       "      <td>1.900000e+01</td>\n",
       "      <td>2.400000e+01</td>\n",
       "      <td>2.400000e+01</td>\n",
       "    </tr>\n",
       "    <tr>\n",
       "      <th>SLP</th>\n",
       "      <td>638600.0</td>\n",
       "      <td>1.013258e+03</td>\n",
       "      <td>4.629048e+00</td>\n",
       "      <td>9.219000e+02</td>\n",
       "      <td>1.010700e+03</td>\n",
       "      <td>1.012600e+03</td>\n",
       "      <td>1.015100e+03</td>\n",
       "      <td>1.060400e+03</td>\n",
       "    </tr>\n",
       "    <tr>\n",
       "      <th>SLP_Count</th>\n",
       "      <td>1251410.0</td>\n",
       "      <td>6.575778e+00</td>\n",
       "      <td>8.479146e+00</td>\n",
       "      <td>0.000000e+00</td>\n",
       "      <td>0.000000e+00</td>\n",
       "      <td>4.000000e+00</td>\n",
       "      <td>8.000000e+00</td>\n",
       "      <td>2.400000e+01</td>\n",
       "    </tr>\n",
       "    <tr>\n",
       "      <th>STP</th>\n",
       "      <td>548587.0</td>\n",
       "      <td>9.707060e+02</td>\n",
       "      <td>3.827669e+01</td>\n",
       "      <td>8.090000e+02</td>\n",
       "      <td>9.450000e+02</td>\n",
       "      <td>9.802000e+02</td>\n",
       "      <td>1.004700e+03</td>\n",
       "      <td>1.050000e+03</td>\n",
       "    </tr>\n",
       "    <tr>\n",
       "      <th>STP_Count</th>\n",
       "      <td>1251410.0</td>\n",
       "      <td>6.411463e+00</td>\n",
       "      <td>9.049642e+00</td>\n",
       "      <td>0.000000e+00</td>\n",
       "      <td>0.000000e+00</td>\n",
       "      <td>0.000000e+00</td>\n",
       "      <td>8.000000e+00</td>\n",
       "      <td>2.400000e+01</td>\n",
       "    </tr>\n",
       "    <tr>\n",
       "      <th>VISIB_miles</th>\n",
       "      <td>924238.0</td>\n",
       "      <td>6.693967e+00</td>\n",
       "      <td>1.836754e+00</td>\n",
       "      <td>0.000000e+00</td>\n",
       "      <td>5.900000e+00</td>\n",
       "      <td>6.300000e+00</td>\n",
       "      <td>7.300000e+00</td>\n",
       "      <td>3.340000e+01</td>\n",
       "    </tr>\n",
       "    <tr>\n",
       "      <th>VISIB_km</th>\n",
       "      <td>924238.0</td>\n",
       "      <td>1.077287e+01</td>\n",
       "      <td>2.955962e+00</td>\n",
       "      <td>0.000000e+00</td>\n",
       "      <td>9.495106e+00</td>\n",
       "      <td>1.013884e+01</td>\n",
       "      <td>1.174818e+01</td>\n",
       "      <td>5.375196e+01</td>\n",
       "    </tr>\n",
       "    <tr>\n",
       "      <th>VISIB_Count</th>\n",
       "      <td>1251410.0</td>\n",
       "      <td>1.147073e+01</td>\n",
       "      <td>9.130932e+00</td>\n",
       "      <td>0.000000e+00</td>\n",
       "      <td>0.000000e+00</td>\n",
       "      <td>1.100000e+01</td>\n",
       "      <td>2.100000e+01</td>\n",
       "      <td>2.400000e+01</td>\n",
       "    </tr>\n",
       "    <tr>\n",
       "      <th>WDSP_knots</th>\n",
       "      <td>1210963.0</td>\n",
       "      <td>4.930639e+00</td>\n",
       "      <td>2.989603e+00</td>\n",
       "      <td>0.000000e+00</td>\n",
       "      <td>2.800000e+00</td>\n",
       "      <td>4.500000e+00</td>\n",
       "      <td>6.500000e+00</td>\n",
       "      <td>4.810000e+01</td>\n",
       "    </tr>\n",
       "    <tr>\n",
       "      <th>WDSP_km/h</th>\n",
       "      <td>1210963.0</td>\n",
       "      <td>9.131543e+00</td>\n",
       "      <td>5.536745e+00</td>\n",
       "      <td>0.000000e+00</td>\n",
       "      <td>5.185600e+00</td>\n",
       "      <td>8.334000e+00</td>\n",
       "      <td>1.203800e+01</td>\n",
       "      <td>8.908120e+01</td>\n",
       "    </tr>\n",
       "    <tr>\n",
       "      <th>WDSP_Count</th>\n",
       "      <td>1251410.0</td>\n",
       "      <td>1.693014e+01</td>\n",
       "      <td>7.383628e+00</td>\n",
       "      <td>0.000000e+00</td>\n",
       "      <td>1.100000e+01</td>\n",
       "      <td>1.900000e+01</td>\n",
       "      <td>2.400000e+01</td>\n",
       "      <td>2.400000e+01</td>\n",
       "    </tr>\n",
       "    <tr>\n",
       "      <th>MXSPD_knots</th>\n",
       "      <td>1185086.0</td>\n",
       "      <td>9.739396e+00</td>\n",
       "      <td>4.465792e+00</td>\n",
       "      <td>2.000000e-01</td>\n",
       "      <td>6.400000e+00</td>\n",
       "      <td>8.900000e+00</td>\n",
       "      <td>1.200000e+01</td>\n",
       "      <td>7.560000e+01</td>\n",
       "    </tr>\n",
       "    <tr>\n",
       "      <th>MXSPD_km/h</th>\n",
       "      <td>1185086.0</td>\n",
       "      <td>1.803736e+01</td>\n",
       "      <td>8.270647e+00</td>\n",
       "      <td>3.704000e-01</td>\n",
       "      <td>1.185280e+01</td>\n",
       "      <td>1.648280e+01</td>\n",
       "      <td>2.222400e+01</td>\n",
       "      <td>1.400112e+02</td>\n",
       "    </tr>\n",
       "    <tr>\n",
       "      <th>GUST_knots</th>\n",
       "      <td>327378.0</td>\n",
       "      <td>1.880058e+01</td>\n",
       "      <td>6.043518e+00</td>\n",
       "      <td>1.000000e+00</td>\n",
       "      <td>1.440000e+01</td>\n",
       "      <td>1.790000e+01</td>\n",
       "      <td>2.200000e+01</td>\n",
       "      <td>1.010000e+02</td>\n",
       "    </tr>\n",
       "    <tr>\n",
       "      <th>GUST_km/h</th>\n",
       "      <td>327378.0</td>\n",
       "      <td>3.481867e+01</td>\n",
       "      <td>1.119260e+01</td>\n",
       "      <td>1.852000e+00</td>\n",
       "      <td>2.666880e+01</td>\n",
       "      <td>3.315080e+01</td>\n",
       "      <td>4.074400e+01</td>\n",
       "      <td>1.870520e+02</td>\n",
       "    </tr>\n",
       "    <tr>\n",
       "      <th>MAX_°F</th>\n",
       "      <td>1251410.0</td>\n",
       "      <td>8.909938e+01</td>\n",
       "      <td>1.883570e+02</td>\n",
       "      <td>3.200000e+01</td>\n",
       "      <td>8.130000e+01</td>\n",
       "      <td>8.640000e+01</td>\n",
       "      <td>9.140000e+01</td>\n",
       "      <td>9.999900e+03</td>\n",
       "    </tr>\n",
       "    <tr>\n",
       "      <th>MAX_°C</th>\n",
       "      <td>1251410.0</td>\n",
       "      <td>3.172188e+01</td>\n",
       "      <td>1.046428e+02</td>\n",
       "      <td>0.000000e+00</td>\n",
       "      <td>2.738889e+01</td>\n",
       "      <td>3.022222e+01</td>\n",
       "      <td>3.300000e+01</td>\n",
       "      <td>5.537722e+03</td>\n",
       "    </tr>\n",
       "    <tr>\n",
       "      <th>MIN_°F</th>\n",
       "      <td>1251410.0</td>\n",
       "      <td>7.414992e+01</td>\n",
       "      <td>2.315860e+02</td>\n",
       "      <td>6.300000e+00</td>\n",
       "      <td>6.440000e+01</td>\n",
       "      <td>7.070000e+01</td>\n",
       "      <td>7.470000e+01</td>\n",
       "      <td>9.999900e+03</td>\n",
       "    </tr>\n",
       "    <tr>\n",
       "      <th>MIN_°C</th>\n",
       "      <td>1251410.0</td>\n",
       "      <td>2.341662e+01</td>\n",
       "      <td>1.286589e+02</td>\n",
       "      <td>-1.427778e+01</td>\n",
       "      <td>1.800000e+01</td>\n",
       "      <td>2.150000e+01</td>\n",
       "      <td>2.372222e+01</td>\n",
       "      <td>5.537722e+03</td>\n",
       "    </tr>\n",
       "    <tr>\n",
       "      <th>PRCP_inches</th>\n",
       "      <td>1088194.0</td>\n",
       "      <td>5.897565e-02</td>\n",
       "      <td>2.962619e-01</td>\n",
       "      <td>0.000000e+00</td>\n",
       "      <td>0.000000e+00</td>\n",
       "      <td>0.000000e+00</td>\n",
       "      <td>0.000000e+00</td>\n",
       "      <td>1.945000e+01</td>\n",
       "    </tr>\n",
       "    <tr>\n",
       "      <th>PRCP_mm</th>\n",
       "      <td>1088194.0</td>\n",
       "      <td>1.497982e+00</td>\n",
       "      <td>7.525052e+00</td>\n",
       "      <td>0.000000e+00</td>\n",
       "      <td>0.000000e+00</td>\n",
       "      <td>0.000000e+00</td>\n",
       "      <td>0.000000e+00</td>\n",
       "      <td>4.940300e+02</td>\n",
       "    </tr>\n",
       "    <tr>\n",
       "      <th>SNDP_inches</th>\n",
       "      <td>3.0</td>\n",
       "      <td>3.133333e+00</td>\n",
       "      <td>7.505553e-01</td>\n",
       "      <td>2.400000e+00</td>\n",
       "      <td>2.750000e+00</td>\n",
       "      <td>3.100000e+00</td>\n",
       "      <td>3.500000e+00</td>\n",
       "      <td>3.900000e+00</td>\n",
       "    </tr>\n",
       "    <tr>\n",
       "      <th>SNDP_mm</th>\n",
       "      <td>3.0</td>\n",
       "      <td>7.958667e+01</td>\n",
       "      <td>1.906411e+01</td>\n",
       "      <td>6.096000e+01</td>\n",
       "      <td>6.985000e+01</td>\n",
       "      <td>7.874000e+01</td>\n",
       "      <td>8.890000e+01</td>\n",
       "      <td>9.906000e+01</td>\n",
       "    </tr>\n",
       "    <tr>\n",
       "      <th>ID</th>\n",
       "      <td>1251410.0</td>\n",
       "      <td>7.173228e+08</td>\n",
       "      <td>1.949808e+08</td>\n",
       "      <td>1.797199e+07</td>\n",
       "      <td>5.806505e+08</td>\n",
       "      <td>5.809820e+08</td>\n",
       "      <td>7.967242e+08</td>\n",
       "      <td>1.047366e+09</td>\n",
       "    </tr>\n",
       "  </tbody>\n",
       "</table>\n",
       "</div>"
      ],
      "text/plain": [
       "                 count          mean           std           min  \\\n",
       "USAF         1251795.0  8.108983e+05  6.849503e+04  3.126000e+05   \n",
       "WBAN         1251795.0  9.999900e+04  0.000000e+00  9.999900e+04   \n",
       "LAT          1251795.0 -1.244480e+01  1.152776e+01 -3.375000e+01   \n",
       "LON          1251795.0 -4.115050e+01  1.875304e+01 -7.278700e+01   \n",
       "ELEV         1251795.0  3.339246e+02  3.346599e+02 -9.999000e+02   \n",
       "YEAR         1251410.0  2.014831e+03  6.570538e+00  2.000000e+03   \n",
       "MONTH        1251410.0  6.426069e+00  3.496278e+00  1.000000e+00   \n",
       "DAY          1251410.0  1.567366e+01  8.801878e+00  1.000000e+00   \n",
       "TEMP_°F      1251410.0  7.667841e+01  7.656385e+00  1.790000e+01   \n",
       "TEMP_°C      1251410.0  2.482134e+01  4.253547e+00 -7.833333e+00   \n",
       "TEMP_Count   1251410.0  1.739167e+01  6.880299e+00  4.000000e+00   \n",
       "DEWP_°F      1237958.0  6.594964e+01  9.446795e+00 -2.970000e+01   \n",
       "DEWP_°C      1237958.0  1.886091e+01  5.248219e+00 -3.427778e+01   \n",
       "DEWP_Count   1251410.0  1.708384e+01  7.066183e+00  0.000000e+00   \n",
       "SLP           638600.0  1.013258e+03  4.629048e+00  9.219000e+02   \n",
       "SLP_Count    1251410.0  6.575778e+00  8.479146e+00  0.000000e+00   \n",
       "STP           548587.0  9.707060e+02  3.827669e+01  8.090000e+02   \n",
       "STP_Count    1251410.0  6.411463e+00  9.049642e+00  0.000000e+00   \n",
       "VISIB_miles   924238.0  6.693967e+00  1.836754e+00  0.000000e+00   \n",
       "VISIB_km      924238.0  1.077287e+01  2.955962e+00  0.000000e+00   \n",
       "VISIB_Count  1251410.0  1.147073e+01  9.130932e+00  0.000000e+00   \n",
       "WDSP_knots   1210963.0  4.930639e+00  2.989603e+00  0.000000e+00   \n",
       "WDSP_km/h    1210963.0  9.131543e+00  5.536745e+00  0.000000e+00   \n",
       "WDSP_Count   1251410.0  1.693014e+01  7.383628e+00  0.000000e+00   \n",
       "MXSPD_knots  1185086.0  9.739396e+00  4.465792e+00  2.000000e-01   \n",
       "MXSPD_km/h   1185086.0  1.803736e+01  8.270647e+00  3.704000e-01   \n",
       "GUST_knots    327378.0  1.880058e+01  6.043518e+00  1.000000e+00   \n",
       "GUST_km/h     327378.0  3.481867e+01  1.119260e+01  1.852000e+00   \n",
       "MAX_°F       1251410.0  8.909938e+01  1.883570e+02  3.200000e+01   \n",
       "MAX_°C       1251410.0  3.172188e+01  1.046428e+02  0.000000e+00   \n",
       "MIN_°F       1251410.0  7.414992e+01  2.315860e+02  6.300000e+00   \n",
       "MIN_°C       1251410.0  2.341662e+01  1.286589e+02 -1.427778e+01   \n",
       "PRCP_inches  1088194.0  5.897565e-02  2.962619e-01  0.000000e+00   \n",
       "PRCP_mm      1088194.0  1.497982e+00  7.525052e+00  0.000000e+00   \n",
       "SNDP_inches        3.0  3.133333e+00  7.505553e-01  2.400000e+00   \n",
       "SNDP_mm            3.0  7.958667e+01  1.906411e+01  6.096000e+01   \n",
       "ID           1251410.0  7.173228e+08  1.949808e+08  1.797199e+07   \n",
       "\n",
       "                      25%           50%           75%           max  \n",
       "USAF         8.214300e+05  8.335900e+05  8.384200e+05  8.699800e+05  \n",
       "WBAN         9.999900e+04  9.999900e+04  9.999900e+04  9.999900e+04  \n",
       "LAT         -2.241700e+01 -1.420000e+01 -3.786000e+00  1.090000e+01  \n",
       "LON         -5.179700e+01 -4.656800e+01 -3.903300e+01  1.523300e+01  \n",
       "ELEV         4.850000e+01  2.030000e+02  5.915000e+02  1.811500e+03  \n",
       "YEAR         2.010000e+03  2.017000e+03  2.020000e+03  2.023000e+03  \n",
       "MONTH        3.000000e+00  6.000000e+00  9.000000e+00  1.200000e+01  \n",
       "DAY          8.000000e+00  1.600000e+01  2.300000e+01  3.100000e+01  \n",
       "TEMP_°F      7.270000e+01  7.810000e+01  8.170000e+01  1.076000e+02  \n",
       "TEMP_°C      2.261111e+01  2.561111e+01  2.761111e+01  4.200000e+01  \n",
       "TEMP_Count   1.200000e+01  2.000000e+01  2.400000e+01  2.400000e+01  \n",
       "DEWP_°F      6.080000e+01  6.830000e+01  7.310000e+01  8.990000e+01  \n",
       "DEWP_°C      1.600000e+01  2.016667e+01  2.283333e+01  3.216667e+01  \n",
       "DEWP_Count   1.200000e+01  1.900000e+01  2.400000e+01  2.400000e+01  \n",
       "SLP          1.010700e+03  1.012600e+03  1.015100e+03  1.060400e+03  \n",
       "SLP_Count    0.000000e+00  4.000000e+00  8.000000e+00  2.400000e+01  \n",
       "STP          9.450000e+02  9.802000e+02  1.004700e+03  1.050000e+03  \n",
       "STP_Count    0.000000e+00  0.000000e+00  8.000000e+00  2.400000e+01  \n",
       "VISIB_miles  5.900000e+00  6.300000e+00  7.300000e+00  3.340000e+01  \n",
       "VISIB_km     9.495106e+00  1.013884e+01  1.174818e+01  5.375196e+01  \n",
       "VISIB_Count  0.000000e+00  1.100000e+01  2.100000e+01  2.400000e+01  \n",
       "WDSP_knots   2.800000e+00  4.500000e+00  6.500000e+00  4.810000e+01  \n",
       "WDSP_km/h    5.185600e+00  8.334000e+00  1.203800e+01  8.908120e+01  \n",
       "WDSP_Count   1.100000e+01  1.900000e+01  2.400000e+01  2.400000e+01  \n",
       "MXSPD_knots  6.400000e+00  8.900000e+00  1.200000e+01  7.560000e+01  \n",
       "MXSPD_km/h   1.185280e+01  1.648280e+01  2.222400e+01  1.400112e+02  \n",
       "GUST_knots   1.440000e+01  1.790000e+01  2.200000e+01  1.010000e+02  \n",
       "GUST_km/h    2.666880e+01  3.315080e+01  4.074400e+01  1.870520e+02  \n",
       "MAX_°F       8.130000e+01  8.640000e+01  9.140000e+01  9.999900e+03  \n",
       "MAX_°C       2.738889e+01  3.022222e+01  3.300000e+01  5.537722e+03  \n",
       "MIN_°F       6.440000e+01  7.070000e+01  7.470000e+01  9.999900e+03  \n",
       "MIN_°C       1.800000e+01  2.150000e+01  2.372222e+01  5.537722e+03  \n",
       "PRCP_inches  0.000000e+00  0.000000e+00  0.000000e+00  1.945000e+01  \n",
       "PRCP_mm      0.000000e+00  0.000000e+00  0.000000e+00  4.940300e+02  \n",
       "SNDP_inches  2.750000e+00  3.100000e+00  3.500000e+00  3.900000e+00  \n",
       "SNDP_mm      6.985000e+01  7.874000e+01  8.890000e+01  9.906000e+01  \n",
       "ID           5.806505e+08  5.809820e+08  7.967242e+08  1.047366e+09  "
      ]
     },
     "execution_count": 140,
     "metadata": {},
     "output_type": "execute_result"
    }
   ],
   "source": [
    "#Basic information\n",
    "df.info(verbose=True, max_cols=100)\n",
    "\n",
    "#Describe the data\n",
    "\n",
    "df.describe().T"
   ]
  },
  {
   "cell_type": "code",
   "execution_count": 141,
   "metadata": {},
   "outputs": [
    {
     "name": "stdout",
     "output_type": "stream",
     "text": [
      "['  ' nan]\n",
      "['SBVE ' '     ' 'SBOI ' 'SBBV ' 'SBAM ' 'SBML ' 'SBNM ' 'SBYA ' 'SBMD '\n",
      " 'SBMQ ' 'SBUA ' nan 'SBTC ' 'SBEG ' 'SWBC ' 'SBMZ ' 'SBBE ' 'SBSN '\n",
      " 'SBSL ' 'SBPB ' 'SBTF ' 'SBMN ' 'SBIC ' 'SBPJ ' 'SBHT ' 'SBTU ' 'SBFZ '\n",
      " 'SBFN ' 'SBBC ' 'SBTT ' 'SBUI ' 'SBIH ' 'SBMY ' 'SBMA ' 'SBIZ ' 'SBCJ '\n",
      " 'SBTE ' 'SBMS ' 'SBNT ' 'SBNF ' 'SBEK ' 'SBCZ ' 'SBCI ' 'SNBS ' 'SBKG '\n",
      " 'SBJV ' 'SBTK ' 'SBBA ' 'SBPV ' 'SBAA ' 'SBRF ' 'SBRB ' 'SBCC ' 'SBAT '\n",
      " 'SBPL ' 'SBUF ' 'SBMO ' 'SBJH ' 'SBPN ' 'SBGR ' 'SBAR ' 'SBVH ' 'SBLE '\n",
      " 'SBSV ' 'SBLP ' 'SBXV ' 'SBQV ' 'SBIL ' 'SBBW ' 'SBCY ' 'SBGA ' 'SBBR '\n",
      " 'SBAN ' 'SBGO ' 'SBMK ' 'SBPS ' 'SBCV ' 'SBUL ' 'SBCR ' 'SBUR ' 'SBBH '\n",
      " 'SBCF ' 'SBLS ' 'SBCG ' 'SBUP ' 'SBPC ' 'SBVT ' 'SBRP ' 'SBYS ' 'SBPR '\n",
      " 'SBAQ ' 'SBCA ' 'SBCM ' 'SBGM ' 'SBGU ' 'SBBQ ' 'SBJF ' 'SBCP ' 'SBPP '\n",
      " 'SBGW ' 'SBBP ' 'SBJD ' 'SBDN ' 'SBKP ' 'SBBU ' 'SBSA ' 'SBRS ' 'SBSC '\n",
      " 'SBGL ' 'SBAF ' 'SBRJ ' 'SBES ' 'SBMG ' 'SBLO ' 'SBCB ' 'SBMT ' 'SBSP '\n",
      " 'SBTA ' 'SBSJ ' 'SBST ' 'SBFI ' 'SBGP ' 'SBCT ' 'SBBI ' 'SBPG ' 'SBCH '\n",
      " 'SBFL ' 'SBPF ' 'SBUG ' 'SBSM ' 'SBCX ' 'SBCO ' 'SBPA ' 'SBBG ' 'SBPK '\n",
      " 'SBCN ' 'SBLB ' 'SBME ' 'FKKL ' 'FKKJ ' 'FKKR ' 'FKKN ' 'FKAB ' 'FKAM '\n",
      " 'FKKA ' 'FKKF ' 'FKKV ' 'FKKM ' 'FKAY ' 'FKAO ' 'FKKD ' 'FKAN ' 'FKKC '\n",
      " 'FKAF ' 'FKKO ' 'FKKI ' 'FKKE ' 'FKYS ' 'FKKY ' 'FKAG ' 'FKAL ' 'FKKB '\n",
      " 'FKKW ' 'DGLN ' 'DGLW ' 'DGLB ' 'DGLE ' 'DGLY ' 'DGSW ' 'DGSN ' 'DGSI '\n",
      " 'DGSB ' 'DGAH ' 'DGKA ' 'DGKK ' 'DGAK ' 'DGTX ' 'DGTK ' 'DGAS ' 'DGAA '\n",
      " 'DGAT ' 'DGAD ' 'DIOD ' 'DIKO ' 'DIBU ' 'DIMN ' 'DIBK ' 'DIGA ' 'DIDL '\n",
      " 'DIDK ' 'DIYO ' 'DIAP ' 'DIAD ' 'DITB ' 'DISP ' 'DISS ']\n",
      "[ True False]\n"
     ]
    }
   ],
   "source": [
    "print(df[\"STATE\"].unique())\n",
    "print(df[\"CALL\"].unique())\n",
    "print(df[\"UseData\"].unique())"
   ]
  },
  {
   "attachments": {},
   "cell_type": "markdown",
   "metadata": {},
   "source": [
    "Zostawiamy tylko ważne metadane oraz dane mogące mieć bezpośredni wpływ na predykcję zbiorów. Przyjęte pola:\n",
    "* USAF - identyfikator stacji pogodowej\n",
    "* WBAN - identyfikator kraju\n",
    "* STATIONNAME - nazwa stacji, bardziej informatywna od pola USAF\n",
    "* COUNTRYNAME - nazwa kraju, bardziej informatywna od pola CTRY\n",
    "* LAT, LON - położenie geograficzne na potrzeby wizualizacji\n",
    "* Begin, End - prawdopodobnie pola identyfikujące czas w którym stacja pobierała dane\n",
    "* TEMP_°C - Średnia temperatura w °C\n",
    "* DEWP_°C - średni punkt rosy w °C\n",
    "* SLP - średnie ciśnienie na poziomie morza (.1 milibar)\n",
    "* STP - Średnie ciśnienie w stacji (.1 milibar)\n",
    "* VSIB_km - średnia widoczność w km\n",
    "* WDSP_km/h - średnia prędkość wiatru w km/h\n",
    "* MXSPD_km/h - Maksymalna utrzymująca się prędkość wiatru w km/h\n",
    "* GUST_km/h - Maksymalny poryw wiatru w km/h\n",
    "* MAX_°C - Maksymalna temperatura w °C\n",
    "* MIN_°C - Minimalna temperatura w °C\n",
    "* PRCP_mm - Całkowity opad (deszcz i/lub stopiony śnieg) (w mm) \"0\" oznacza brak mierzalnych opadów (w tym śladowe ilości).\n",
    "* SNDP_mm - Głębokość śniegu (w mm). Jest to ostatni raport dla danego dnia, jeśli został zgłoszony więcej niż raz.\n",
    "* Fog - Wskaźnik zdarzenia: Mgła\n",
    "* RainOrDrizzle - Wskaźnik zdarzenia: Deszcz lub mżawka\n",
    "* SnowOrIcePellets - Wskaźnik zdarzenia: Śnieg lub ziarna lodowe\n",
    "* Hail - Wskaźnik zdarzenia: Grad\n",
    "* Thunder - Wskaźnik zdarzenia: Burza\n",
    "* TornadoOrFunnelCloud - Wskaźnik zdarzenia: Tornado lub chmura lejkowata\n",
    "* DATE - data pozyskania rekordu"
   ]
  },
  {
   "cell_type": "code",
   "execution_count": 162,
   "metadata": {},
   "outputs": [],
   "source": [
    "df = df.drop(columns=[\"CTRY\", \"STATE\", \"CALL\", \"ELEV\", \"UseData\", \"YEAR\", \"MONTH\", \"DAY\", \n",
    "                      \"TEMP_°F\", \"TEMP_Count\", \"DEWP_°F\", \"DEWP_Count\", \"SLP_Count\", \"STP_Count\", \n",
    "                      \"VISIB_miles\", \"VISIB_Count\", \"WDSP_knots\", \"WDSP_Count\", \"MXSPD_knots\", \"GUST_knots\",\n",
    "                      \"MAX_°F\", \"MAX_Flag\", \"MIN_°F\", \"MIN_Flag\", \"PRCP_inches\", \"PRCP_Flag\",\n",
    "                      \"SNDP_inches\", \"ID\", \"EntryDate\", \"ts\"])"
   ]
  },
  {
   "cell_type": "code",
   "execution_count": 143,
   "metadata": {},
   "outputs": [
    {
     "data": {
      "text/html": [
       "<div>\n",
       "<style scoped>\n",
       "    .dataframe tbody tr th:only-of-type {\n",
       "        vertical-align: middle;\n",
       "    }\n",
       "\n",
       "    .dataframe tbody tr th {\n",
       "        vertical-align: top;\n",
       "    }\n",
       "\n",
       "    .dataframe thead th {\n",
       "        text-align: right;\n",
       "    }\n",
       "</style>\n",
       "<table border=\"1\" class=\"dataframe\">\n",
       "  <thead>\n",
       "    <tr style=\"text-align: right;\">\n",
       "      <th></th>\n",
       "      <th>USAF</th>\n",
       "      <th>WBAN</th>\n",
       "      <th>STATIONNAME</th>\n",
       "      <th>COUNTRYNAME</th>\n",
       "      <th>LAT</th>\n",
       "      <th>LON</th>\n",
       "      <th>BEGIN</th>\n",
       "      <th>END</th>\n",
       "      <th>TEMP_°C</th>\n",
       "      <th>DEWP_°C</th>\n",
       "      <th>SLP</th>\n",
       "      <th>STP</th>\n",
       "      <th>VISIB_km</th>\n",
       "      <th>WDSP_km/h</th>\n",
       "      <th>MXSPD_km/h</th>\n",
       "      <th>GUST_km/h</th>\n",
       "      <th>MAX_°C</th>\n",
       "      <th>MIN_°C</th>\n",
       "      <th>PRCP_mm</th>\n",
       "      <th>SNDP_mm</th>\n",
       "      <th>Fog</th>\n",
       "      <th>RainOrDrizzle</th>\n",
       "      <th>SnowOrIcePellets</th>\n",
       "      <th>Hail</th>\n",
       "      <th>Thunder</th>\n",
       "      <th>TornadoOrFunnelCloud</th>\n",
       "      <th>DATE</th>\n",
       "    </tr>\n",
       "  </thead>\n",
       "  <tbody>\n",
       "    <tr>\n",
       "      <th>0</th>\n",
       "      <td>749024</td>\n",
       "      <td>99999</td>\n",
       "      <td>OYAPOCK</td>\n",
       "      <td>BRAZIL</td>\n",
       "      <td>3.867</td>\n",
       "      <td>-51.817</td>\n",
       "      <td>1943-10-07</td>\n",
       "      <td>1945-10-21</td>\n",
       "      <td>NaN</td>\n",
       "      <td>NaN</td>\n",
       "      <td>NaN</td>\n",
       "      <td>NaN</td>\n",
       "      <td>NaN</td>\n",
       "      <td>NaN</td>\n",
       "      <td>NaN</td>\n",
       "      <td>NaN</td>\n",
       "      <td>NaN</td>\n",
       "      <td>NaN</td>\n",
       "      <td>NaN</td>\n",
       "      <td>NaN</td>\n",
       "      <td>NaN</td>\n",
       "      <td>NaN</td>\n",
       "      <td>NaN</td>\n",
       "      <td>NaN</td>\n",
       "      <td>NaN</td>\n",
       "      <td>NaN</td>\n",
       "      <td>NaN</td>\n",
       "    </tr>\n",
       "    <tr>\n",
       "      <th>2</th>\n",
       "      <td>749399</td>\n",
       "      <td>99999</td>\n",
       "      <td>IGARAPE-ACU NORTH</td>\n",
       "      <td>BRAZIL</td>\n",
       "      <td>-1.067</td>\n",
       "      <td>-47.617</td>\n",
       "      <td>1945-05-14</td>\n",
       "      <td>1945-09-20</td>\n",
       "      <td>NaN</td>\n",
       "      <td>NaN</td>\n",
       "      <td>NaN</td>\n",
       "      <td>NaN</td>\n",
       "      <td>NaN</td>\n",
       "      <td>NaN</td>\n",
       "      <td>NaN</td>\n",
       "      <td>NaN</td>\n",
       "      <td>NaN</td>\n",
       "      <td>NaN</td>\n",
       "      <td>NaN</td>\n",
       "      <td>NaN</td>\n",
       "      <td>NaN</td>\n",
       "      <td>NaN</td>\n",
       "      <td>NaN</td>\n",
       "      <td>NaN</td>\n",
       "      <td>NaN</td>\n",
       "      <td>NaN</td>\n",
       "      <td>NaN</td>\n",
       "    </tr>\n",
       "    <tr>\n",
       "      <th>3</th>\n",
       "      <td>749400</td>\n",
       "      <td>99999</td>\n",
       "      <td>BOCAIUVA SOUTHEAST</td>\n",
       "      <td>BRAZIL</td>\n",
       "      <td>-17.200</td>\n",
       "      <td>-43.667</td>\n",
       "      <td>1947-04-06</td>\n",
       "      <td>1947-05-23</td>\n",
       "      <td>NaN</td>\n",
       "      <td>NaN</td>\n",
       "      <td>NaN</td>\n",
       "      <td>NaN</td>\n",
       "      <td>NaN</td>\n",
       "      <td>NaN</td>\n",
       "      <td>NaN</td>\n",
       "      <td>NaN</td>\n",
       "      <td>NaN</td>\n",
       "      <td>NaN</td>\n",
       "      <td>NaN</td>\n",
       "      <td>NaN</td>\n",
       "      <td>NaN</td>\n",
       "      <td>NaN</td>\n",
       "      <td>NaN</td>\n",
       "      <td>NaN</td>\n",
       "      <td>NaN</td>\n",
       "      <td>NaN</td>\n",
       "      <td>NaN</td>\n",
       "    </tr>\n",
       "    <tr>\n",
       "      <th>8</th>\n",
       "      <td>816820</td>\n",
       "      <td>99999</td>\n",
       "      <td>CASTANHAL</td>\n",
       "      <td>BRAZIL</td>\n",
       "      <td>-1.300</td>\n",
       "      <td>-47.950</td>\n",
       "      <td>2016-07-04</td>\n",
       "      <td>2023-03-09</td>\n",
       "      <td>24.555555</td>\n",
       "      <td>22.555555</td>\n",
       "      <td>1011.2</td>\n",
       "      <td>1005.8</td>\n",
       "      <td>NaN</td>\n",
       "      <td>0.0000</td>\n",
       "      <td>1.1112</td>\n",
       "      <td>37.0400</td>\n",
       "      <td>29.722222</td>\n",
       "      <td>22.722222</td>\n",
       "      <td>0.0</td>\n",
       "      <td>NaN</td>\n",
       "      <td>False</td>\n",
       "      <td>False</td>\n",
       "      <td>False</td>\n",
       "      <td>False</td>\n",
       "      <td>False</td>\n",
       "      <td>False</td>\n",
       "      <td>2020-01-01</td>\n",
       "    </tr>\n",
       "    <tr>\n",
       "      <th>9</th>\n",
       "      <td>816820</td>\n",
       "      <td>99999</td>\n",
       "      <td>CASTANHAL</td>\n",
       "      <td>BRAZIL</td>\n",
       "      <td>-1.300</td>\n",
       "      <td>-47.950</td>\n",
       "      <td>2016-07-04</td>\n",
       "      <td>2023-03-09</td>\n",
       "      <td>25.388888</td>\n",
       "      <td>23.000000</td>\n",
       "      <td>1011.3</td>\n",
       "      <td>1005.9</td>\n",
       "      <td>NaN</td>\n",
       "      <td>1.2964</td>\n",
       "      <td>23.7056</td>\n",
       "      <td>54.6340</td>\n",
       "      <td>30.111111</td>\n",
       "      <td>23.500000</td>\n",
       "      <td>0.0</td>\n",
       "      <td>NaN</td>\n",
       "      <td>False</td>\n",
       "      <td>False</td>\n",
       "      <td>False</td>\n",
       "      <td>False</td>\n",
       "      <td>False</td>\n",
       "      <td>False</td>\n",
       "      <td>2020-01-02</td>\n",
       "    </tr>\n",
       "    <tr>\n",
       "      <th>...</th>\n",
       "      <td>...</td>\n",
       "      <td>...</td>\n",
       "      <td>...</td>\n",
       "      <td>...</td>\n",
       "      <td>...</td>\n",
       "      <td>...</td>\n",
       "      <td>...</td>\n",
       "      <td>...</td>\n",
       "      <td>...</td>\n",
       "      <td>...</td>\n",
       "      <td>...</td>\n",
       "      <td>...</td>\n",
       "      <td>...</td>\n",
       "      <td>...</td>\n",
       "      <td>...</td>\n",
       "      <td>...</td>\n",
       "      <td>...</td>\n",
       "      <td>...</td>\n",
       "      <td>...</td>\n",
       "      <td>...</td>\n",
       "      <td>...</td>\n",
       "      <td>...</td>\n",
       "      <td>...</td>\n",
       "      <td>...</td>\n",
       "      <td>...</td>\n",
       "      <td>...</td>\n",
       "      <td>...</td>\n",
       "    </tr>\n",
       "    <tr>\n",
       "      <th>2205578</th>\n",
       "      <td>816800</td>\n",
       "      <td>99999</td>\n",
       "      <td>BELEM</td>\n",
       "      <td>BRAZIL</td>\n",
       "      <td>-1.417</td>\n",
       "      <td>-48.433</td>\n",
       "      <td>2016-07-04</td>\n",
       "      <td>2023-03-09</td>\n",
       "      <td>25.055555</td>\n",
       "      <td>23.666666</td>\n",
       "      <td>1012.5</td>\n",
       "      <td>1009.5</td>\n",
       "      <td>NaN</td>\n",
       "      <td>0.1852</td>\n",
       "      <td>5.7412</td>\n",
       "      <td>37.7808</td>\n",
       "      <td>28.111111</td>\n",
       "      <td>23.111111</td>\n",
       "      <td>0.0</td>\n",
       "      <td>NaN</td>\n",
       "      <td>False</td>\n",
       "      <td>False</td>\n",
       "      <td>False</td>\n",
       "      <td>False</td>\n",
       "      <td>False</td>\n",
       "      <td>False</td>\n",
       "      <td>2023-03-13</td>\n",
       "    </tr>\n",
       "    <tr>\n",
       "      <th>2205579</th>\n",
       "      <td>816800</td>\n",
       "      <td>99999</td>\n",
       "      <td>BELEM</td>\n",
       "      <td>BRAZIL</td>\n",
       "      <td>-1.417</td>\n",
       "      <td>-48.433</td>\n",
       "      <td>2016-07-04</td>\n",
       "      <td>2023-03-09</td>\n",
       "      <td>24.277777</td>\n",
       "      <td>23.555555</td>\n",
       "      <td>1012.9</td>\n",
       "      <td>1010.0</td>\n",
       "      <td>NaN</td>\n",
       "      <td>0.5556</td>\n",
       "      <td>5.0004</td>\n",
       "      <td>NaN</td>\n",
       "      <td>26.888888</td>\n",
       "      <td>23.111111</td>\n",
       "      <td>0.0</td>\n",
       "      <td>NaN</td>\n",
       "      <td>False</td>\n",
       "      <td>False</td>\n",
       "      <td>False</td>\n",
       "      <td>False</td>\n",
       "      <td>False</td>\n",
       "      <td>False</td>\n",
       "      <td>2023-03-14</td>\n",
       "    </tr>\n",
       "    <tr>\n",
       "      <th>2205580</th>\n",
       "      <td>816800</td>\n",
       "      <td>99999</td>\n",
       "      <td>BELEM</td>\n",
       "      <td>BRAZIL</td>\n",
       "      <td>-1.417</td>\n",
       "      <td>-48.433</td>\n",
       "      <td>2016-07-04</td>\n",
       "      <td>2023-03-09</td>\n",
       "      <td>24.944444</td>\n",
       "      <td>23.888888</td>\n",
       "      <td>1012.7</td>\n",
       "      <td>1009.8</td>\n",
       "      <td>NaN</td>\n",
       "      <td>0.5556</td>\n",
       "      <td>5.7412</td>\n",
       "      <td>21.8536</td>\n",
       "      <td>28.111111</td>\n",
       "      <td>23.722222</td>\n",
       "      <td>0.0</td>\n",
       "      <td>NaN</td>\n",
       "      <td>False</td>\n",
       "      <td>False</td>\n",
       "      <td>False</td>\n",
       "      <td>False</td>\n",
       "      <td>False</td>\n",
       "      <td>False</td>\n",
       "      <td>2023-03-15</td>\n",
       "    </tr>\n",
       "    <tr>\n",
       "      <th>2205581</th>\n",
       "      <td>816800</td>\n",
       "      <td>99999</td>\n",
       "      <td>BELEM</td>\n",
       "      <td>BRAZIL</td>\n",
       "      <td>-1.417</td>\n",
       "      <td>-48.433</td>\n",
       "      <td>2016-07-04</td>\n",
       "      <td>2023-03-09</td>\n",
       "      <td>26.055555</td>\n",
       "      <td>23.777777</td>\n",
       "      <td>1011.2</td>\n",
       "      <td>1008.3</td>\n",
       "      <td>NaN</td>\n",
       "      <td>0.5556</td>\n",
       "      <td>3.8892</td>\n",
       "      <td>27.4096</td>\n",
       "      <td>31.277777</td>\n",
       "      <td>23.888888</td>\n",
       "      <td>0.0</td>\n",
       "      <td>NaN</td>\n",
       "      <td>False</td>\n",
       "      <td>False</td>\n",
       "      <td>False</td>\n",
       "      <td>False</td>\n",
       "      <td>False</td>\n",
       "      <td>False</td>\n",
       "      <td>2023-03-16</td>\n",
       "    </tr>\n",
       "    <tr>\n",
       "      <th>2205582</th>\n",
       "      <td>816800</td>\n",
       "      <td>99999</td>\n",
       "      <td>BELEM</td>\n",
       "      <td>BRAZIL</td>\n",
       "      <td>-1.417</td>\n",
       "      <td>-48.433</td>\n",
       "      <td>2016-07-04</td>\n",
       "      <td>2023-03-09</td>\n",
       "      <td>25.833333</td>\n",
       "      <td>23.777777</td>\n",
       "      <td>1011.7</td>\n",
       "      <td>1008.8</td>\n",
       "      <td>NaN</td>\n",
       "      <td>1.2964</td>\n",
       "      <td>7.2228</td>\n",
       "      <td>25.1872</td>\n",
       "      <td>32.222222</td>\n",
       "      <td>23.000000</td>\n",
       "      <td>0.0</td>\n",
       "      <td>NaN</td>\n",
       "      <td>False</td>\n",
       "      <td>False</td>\n",
       "      <td>False</td>\n",
       "      <td>False</td>\n",
       "      <td>False</td>\n",
       "      <td>False</td>\n",
       "      <td>2023-03-17</td>\n",
       "    </tr>\n",
       "  </tbody>\n",
       "</table>\n",
       "<p>1251795 rows × 27 columns</p>\n",
       "</div>"
      ],
      "text/plain": [
       "           USAF   WBAN         STATIONNAME COUNTRYNAME     LAT     LON  \\\n",
       "0        749024  99999             OYAPOCK      BRAZIL   3.867 -51.817   \n",
       "2        749399  99999   IGARAPE-ACU NORTH      BRAZIL  -1.067 -47.617   \n",
       "3        749400  99999  BOCAIUVA SOUTHEAST      BRAZIL -17.200 -43.667   \n",
       "8        816820  99999           CASTANHAL      BRAZIL  -1.300 -47.950   \n",
       "9        816820  99999           CASTANHAL      BRAZIL  -1.300 -47.950   \n",
       "...         ...    ...                 ...         ...     ...     ...   \n",
       "2205578  816800  99999               BELEM      BRAZIL  -1.417 -48.433   \n",
       "2205579  816800  99999               BELEM      BRAZIL  -1.417 -48.433   \n",
       "2205580  816800  99999               BELEM      BRAZIL  -1.417 -48.433   \n",
       "2205581  816800  99999               BELEM      BRAZIL  -1.417 -48.433   \n",
       "2205582  816800  99999               BELEM      BRAZIL  -1.417 -48.433   \n",
       "\n",
       "              BEGIN         END    TEMP_°C    DEWP_°C     SLP     STP  \\\n",
       "0        1943-10-07  1945-10-21        NaN        NaN     NaN     NaN   \n",
       "2        1945-05-14  1945-09-20        NaN        NaN     NaN     NaN   \n",
       "3        1947-04-06  1947-05-23        NaN        NaN     NaN     NaN   \n",
       "8        2016-07-04  2023-03-09  24.555555  22.555555  1011.2  1005.8   \n",
       "9        2016-07-04  2023-03-09  25.388888  23.000000  1011.3  1005.9   \n",
       "...             ...         ...        ...        ...     ...     ...   \n",
       "2205578  2016-07-04  2023-03-09  25.055555  23.666666  1012.5  1009.5   \n",
       "2205579  2016-07-04  2023-03-09  24.277777  23.555555  1012.9  1010.0   \n",
       "2205580  2016-07-04  2023-03-09  24.944444  23.888888  1012.7  1009.8   \n",
       "2205581  2016-07-04  2023-03-09  26.055555  23.777777  1011.2  1008.3   \n",
       "2205582  2016-07-04  2023-03-09  25.833333  23.777777  1011.7  1008.8   \n",
       "\n",
       "         VISIB_km  WDSP_km/h  MXSPD_km/h  GUST_km/h     MAX_°C     MIN_°C  \\\n",
       "0             NaN        NaN         NaN        NaN        NaN        NaN   \n",
       "2             NaN        NaN         NaN        NaN        NaN        NaN   \n",
       "3             NaN        NaN         NaN        NaN        NaN        NaN   \n",
       "8             NaN     0.0000      1.1112    37.0400  29.722222  22.722222   \n",
       "9             NaN     1.2964     23.7056    54.6340  30.111111  23.500000   \n",
       "...           ...        ...         ...        ...        ...        ...   \n",
       "2205578       NaN     0.1852      5.7412    37.7808  28.111111  23.111111   \n",
       "2205579       NaN     0.5556      5.0004        NaN  26.888888  23.111111   \n",
       "2205580       NaN     0.5556      5.7412    21.8536  28.111111  23.722222   \n",
       "2205581       NaN     0.5556      3.8892    27.4096  31.277777  23.888888   \n",
       "2205582       NaN     1.2964      7.2228    25.1872  32.222222  23.000000   \n",
       "\n",
       "         PRCP_mm  SNDP_mm    Fog RainOrDrizzle SnowOrIcePellets   Hail  \\\n",
       "0            NaN      NaN    NaN           NaN              NaN    NaN   \n",
       "2            NaN      NaN    NaN           NaN              NaN    NaN   \n",
       "3            NaN      NaN    NaN           NaN              NaN    NaN   \n",
       "8            0.0      NaN  False         False            False  False   \n",
       "9            0.0      NaN  False         False            False  False   \n",
       "...          ...      ...    ...           ...              ...    ...   \n",
       "2205578      0.0      NaN  False         False            False  False   \n",
       "2205579      0.0      NaN  False         False            False  False   \n",
       "2205580      0.0      NaN  False         False            False  False   \n",
       "2205581      0.0      NaN  False         False            False  False   \n",
       "2205582      0.0      NaN  False         False            False  False   \n",
       "\n",
       "        Thunder TornadoOrFunnelCloud        DATE  \n",
       "0           NaN                  NaN         NaN  \n",
       "2           NaN                  NaN         NaN  \n",
       "3           NaN                  NaN         NaN  \n",
       "8         False                False  2020-01-01  \n",
       "9         False                False  2020-01-02  \n",
       "...         ...                  ...         ...  \n",
       "2205578   False                False  2023-03-13  \n",
       "2205579   False                False  2023-03-14  \n",
       "2205580   False                False  2023-03-15  \n",
       "2205581   False                False  2023-03-16  \n",
       "2205582   False                False  2023-03-17  \n",
       "\n",
       "[1251795 rows x 27 columns]"
      ]
     },
     "execution_count": 143,
     "metadata": {},
     "output_type": "execute_result"
    }
   ],
   "source": [
    "df"
   ]
  },
  {
   "cell_type": "code",
   "execution_count": 144,
   "metadata": {},
   "outputs": [
    {
     "name": "stdout",
     "output_type": "stream",
     "text": [
      "<class 'pandas.core.frame.DataFrame'>\n",
      "Int64Index: 1251795 entries, 0 to 2205582\n",
      "Data columns (total 27 columns):\n",
      " #   Column                Non-Null Count    Dtype  \n",
      "---  ------                --------------    -----  \n",
      " 0   USAF                  1251795 non-null  int64  \n",
      " 1   WBAN                  1251795 non-null  int64  \n",
      " 2   STATIONNAME           1251795 non-null  object \n",
      " 3   COUNTRYNAME           1251795 non-null  object \n",
      " 4   LAT                   1251795 non-null  float64\n",
      " 5   LON                   1251795 non-null  float64\n",
      " 6   BEGIN                 1251795 non-null  object \n",
      " 7   END                   1251795 non-null  object \n",
      " 8   TEMP_°C               1251410 non-null  float64\n",
      " 9   DEWP_°C               1237958 non-null  float64\n",
      " 10  SLP                   638600 non-null   float64\n",
      " 11  STP                   548587 non-null   float64\n",
      " 12  VISIB_km              924238 non-null   float64\n",
      " 13  WDSP_km/h             1210963 non-null  float64\n",
      " 14  MXSPD_km/h            1185086 non-null  float64\n",
      " 15  GUST_km/h             327378 non-null   float64\n",
      " 16  MAX_°C                1251410 non-null  float64\n",
      " 17  MIN_°C                1251410 non-null  float64\n",
      " 18  PRCP_mm               1088194 non-null  float64\n",
      " 19  SNDP_mm               3 non-null        float64\n",
      " 20  Fog                   1251410 non-null  object \n",
      " 21  RainOrDrizzle         1251410 non-null  object \n",
      " 22  SnowOrIcePellets      1251410 non-null  object \n",
      " 23  Hail                  1251410 non-null  object \n",
      " 24  Thunder               1251410 non-null  object \n",
      " 25  TornadoOrFunnelCloud  1251410 non-null  object \n",
      " 26  DATE                  1251410 non-null  object \n",
      "dtypes: float64(14), int64(2), object(11)\n",
      "memory usage: 267.4+ MB\n"
     ]
    },
    {
     "data": {
      "text/html": [
       "<div>\n",
       "<style scoped>\n",
       "    .dataframe tbody tr th:only-of-type {\n",
       "        vertical-align: middle;\n",
       "    }\n",
       "\n",
       "    .dataframe tbody tr th {\n",
       "        vertical-align: top;\n",
       "    }\n",
       "\n",
       "    .dataframe thead th {\n",
       "        text-align: right;\n",
       "    }\n",
       "</style>\n",
       "<table border=\"1\" class=\"dataframe\">\n",
       "  <thead>\n",
       "    <tr style=\"text-align: right;\">\n",
       "      <th></th>\n",
       "      <th>count</th>\n",
       "      <th>mean</th>\n",
       "      <th>std</th>\n",
       "      <th>min</th>\n",
       "      <th>25%</th>\n",
       "      <th>50%</th>\n",
       "      <th>75%</th>\n",
       "      <th>max</th>\n",
       "    </tr>\n",
       "  </thead>\n",
       "  <tbody>\n",
       "    <tr>\n",
       "      <th>USAF</th>\n",
       "      <td>1251795.0</td>\n",
       "      <td>810898.290061</td>\n",
       "      <td>68495.027209</td>\n",
       "      <td>312600.000000</td>\n",
       "      <td>821430.000000</td>\n",
       "      <td>833590.000000</td>\n",
       "      <td>838420.000000</td>\n",
       "      <td>869980.000000</td>\n",
       "    </tr>\n",
       "    <tr>\n",
       "      <th>WBAN</th>\n",
       "      <td>1251795.0</td>\n",
       "      <td>99999.000000</td>\n",
       "      <td>0.000000</td>\n",
       "      <td>99999.000000</td>\n",
       "      <td>99999.000000</td>\n",
       "      <td>99999.000000</td>\n",
       "      <td>99999.000000</td>\n",
       "      <td>99999.000000</td>\n",
       "    </tr>\n",
       "    <tr>\n",
       "      <th>LAT</th>\n",
       "      <td>1251795.0</td>\n",
       "      <td>-12.444802</td>\n",
       "      <td>11.527755</td>\n",
       "      <td>-33.750000</td>\n",
       "      <td>-22.417000</td>\n",
       "      <td>-14.200000</td>\n",
       "      <td>-3.786000</td>\n",
       "      <td>10.900000</td>\n",
       "    </tr>\n",
       "    <tr>\n",
       "      <th>LON</th>\n",
       "      <td>1251795.0</td>\n",
       "      <td>-41.150496</td>\n",
       "      <td>18.753035</td>\n",
       "      <td>-72.787000</td>\n",
       "      <td>-51.797000</td>\n",
       "      <td>-46.568000</td>\n",
       "      <td>-39.033000</td>\n",
       "      <td>15.233000</td>\n",
       "    </tr>\n",
       "    <tr>\n",
       "      <th>TEMP_°C</th>\n",
       "      <td>1251410.0</td>\n",
       "      <td>24.821339</td>\n",
       "      <td>4.253547</td>\n",
       "      <td>-7.833333</td>\n",
       "      <td>22.611111</td>\n",
       "      <td>25.611111</td>\n",
       "      <td>27.611111</td>\n",
       "      <td>42.000000</td>\n",
       "    </tr>\n",
       "    <tr>\n",
       "      <th>DEWP_°C</th>\n",
       "      <td>1237958.0</td>\n",
       "      <td>18.860909</td>\n",
       "      <td>5.248219</td>\n",
       "      <td>-34.277777</td>\n",
       "      <td>16.000000</td>\n",
       "      <td>20.166666</td>\n",
       "      <td>22.833333</td>\n",
       "      <td>32.166666</td>\n",
       "    </tr>\n",
       "    <tr>\n",
       "      <th>SLP</th>\n",
       "      <td>638600.0</td>\n",
       "      <td>1013.258332</td>\n",
       "      <td>4.629048</td>\n",
       "      <td>921.900000</td>\n",
       "      <td>1010.700000</td>\n",
       "      <td>1012.600000</td>\n",
       "      <td>1015.100000</td>\n",
       "      <td>1060.400000</td>\n",
       "    </tr>\n",
       "    <tr>\n",
       "      <th>STP</th>\n",
       "      <td>548587.0</td>\n",
       "      <td>970.705981</td>\n",
       "      <td>38.276687</td>\n",
       "      <td>809.000000</td>\n",
       "      <td>945.000000</td>\n",
       "      <td>980.200000</td>\n",
       "      <td>1004.700000</td>\n",
       "      <td>1050.000000</td>\n",
       "    </tr>\n",
       "    <tr>\n",
       "      <th>VISIB_km</th>\n",
       "      <td>924238.0</td>\n",
       "      <td>10.772869</td>\n",
       "      <td>2.955962</td>\n",
       "      <td>0.000000</td>\n",
       "      <td>9.495106</td>\n",
       "      <td>10.138842</td>\n",
       "      <td>11.748182</td>\n",
       "      <td>53.751956</td>\n",
       "    </tr>\n",
       "    <tr>\n",
       "      <th>WDSP_km/h</th>\n",
       "      <td>1210963.0</td>\n",
       "      <td>9.131543</td>\n",
       "      <td>5.536745</td>\n",
       "      <td>0.000000</td>\n",
       "      <td>5.185600</td>\n",
       "      <td>8.334000</td>\n",
       "      <td>12.038000</td>\n",
       "      <td>89.081200</td>\n",
       "    </tr>\n",
       "    <tr>\n",
       "      <th>MXSPD_km/h</th>\n",
       "      <td>1185086.0</td>\n",
       "      <td>18.037362</td>\n",
       "      <td>8.270647</td>\n",
       "      <td>0.370400</td>\n",
       "      <td>11.852800</td>\n",
       "      <td>16.482800</td>\n",
       "      <td>22.224000</td>\n",
       "      <td>140.011200</td>\n",
       "    </tr>\n",
       "    <tr>\n",
       "      <th>GUST_km/h</th>\n",
       "      <td>327378.0</td>\n",
       "      <td>34.818672</td>\n",
       "      <td>11.192595</td>\n",
       "      <td>1.852000</td>\n",
       "      <td>26.668800</td>\n",
       "      <td>33.150800</td>\n",
       "      <td>40.744000</td>\n",
       "      <td>187.052000</td>\n",
       "    </tr>\n",
       "    <tr>\n",
       "      <th>MAX_°C</th>\n",
       "      <td>1251410.0</td>\n",
       "      <td>31.721879</td>\n",
       "      <td>104.642770</td>\n",
       "      <td>0.000000</td>\n",
       "      <td>27.388888</td>\n",
       "      <td>30.222222</td>\n",
       "      <td>33.000000</td>\n",
       "      <td>5537.722222</td>\n",
       "    </tr>\n",
       "    <tr>\n",
       "      <th>MIN_°C</th>\n",
       "      <td>1251410.0</td>\n",
       "      <td>23.416620</td>\n",
       "      <td>128.658876</td>\n",
       "      <td>-14.277777</td>\n",
       "      <td>18.000000</td>\n",
       "      <td>21.500000</td>\n",
       "      <td>23.722222</td>\n",
       "      <td>5537.722222</td>\n",
       "    </tr>\n",
       "    <tr>\n",
       "      <th>PRCP_mm</th>\n",
       "      <td>1088194.0</td>\n",
       "      <td>1.497982</td>\n",
       "      <td>7.525052</td>\n",
       "      <td>0.000000</td>\n",
       "      <td>0.000000</td>\n",
       "      <td>0.000000</td>\n",
       "      <td>0.000000</td>\n",
       "      <td>494.030000</td>\n",
       "    </tr>\n",
       "    <tr>\n",
       "      <th>SNDP_mm</th>\n",
       "      <td>3.0</td>\n",
       "      <td>79.586667</td>\n",
       "      <td>19.064106</td>\n",
       "      <td>60.960000</td>\n",
       "      <td>69.850000</td>\n",
       "      <td>78.740000</td>\n",
       "      <td>88.900000</td>\n",
       "      <td>99.060000</td>\n",
       "    </tr>\n",
       "  </tbody>\n",
       "</table>\n",
       "</div>"
      ],
      "text/plain": [
       "                count           mean           std            min  \\\n",
       "USAF        1251795.0  810898.290061  68495.027209  312600.000000   \n",
       "WBAN        1251795.0   99999.000000      0.000000   99999.000000   \n",
       "LAT         1251795.0     -12.444802     11.527755     -33.750000   \n",
       "LON         1251795.0     -41.150496     18.753035     -72.787000   \n",
       "TEMP_°C     1251410.0      24.821339      4.253547      -7.833333   \n",
       "DEWP_°C     1237958.0      18.860909      5.248219     -34.277777   \n",
       "SLP          638600.0    1013.258332      4.629048     921.900000   \n",
       "STP          548587.0     970.705981     38.276687     809.000000   \n",
       "VISIB_km     924238.0      10.772869      2.955962       0.000000   \n",
       "WDSP_km/h   1210963.0       9.131543      5.536745       0.000000   \n",
       "MXSPD_km/h  1185086.0      18.037362      8.270647       0.370400   \n",
       "GUST_km/h    327378.0      34.818672     11.192595       1.852000   \n",
       "MAX_°C      1251410.0      31.721879    104.642770       0.000000   \n",
       "MIN_°C      1251410.0      23.416620    128.658876     -14.277777   \n",
       "PRCP_mm     1088194.0       1.497982      7.525052       0.000000   \n",
       "SNDP_mm           3.0      79.586667     19.064106      60.960000   \n",
       "\n",
       "                      25%            50%            75%            max  \n",
       "USAF        821430.000000  833590.000000  838420.000000  869980.000000  \n",
       "WBAN         99999.000000   99999.000000   99999.000000   99999.000000  \n",
       "LAT            -22.417000     -14.200000      -3.786000      10.900000  \n",
       "LON            -51.797000     -46.568000     -39.033000      15.233000  \n",
       "TEMP_°C         22.611111      25.611111      27.611111      42.000000  \n",
       "DEWP_°C         16.000000      20.166666      22.833333      32.166666  \n",
       "SLP           1010.700000    1012.600000    1015.100000    1060.400000  \n",
       "STP            945.000000     980.200000    1004.700000    1050.000000  \n",
       "VISIB_km         9.495106      10.138842      11.748182      53.751956  \n",
       "WDSP_km/h        5.185600       8.334000      12.038000      89.081200  \n",
       "MXSPD_km/h      11.852800      16.482800      22.224000     140.011200  \n",
       "GUST_km/h       26.668800      33.150800      40.744000     187.052000  \n",
       "MAX_°C          27.388888      30.222222      33.000000    5537.722222  \n",
       "MIN_°C          18.000000      21.500000      23.722222    5537.722222  \n",
       "PRCP_mm          0.000000       0.000000       0.000000     494.030000  \n",
       "SNDP_mm         69.850000      78.740000      88.900000      99.060000  "
      ]
     },
     "execution_count": 144,
     "metadata": {},
     "output_type": "execute_result"
    }
   ],
   "source": [
    "#Basic information\n",
    "df.info(verbose=True, max_cols=100)\n",
    "\n",
    "#Describe the data\n",
    "\n",
    "df.describe().T"
   ]
  },
  {
   "attachments": {},
   "cell_type": "markdown",
   "metadata": {},
   "source": [
    "Pole SNDP_mm wskazujące na głębokość śniegu można usunąć z zbioru danych, ponieważ jego liczebność wynosi 5 rekordów."
   ]
  },
  {
   "cell_type": "code",
   "execution_count": 163,
   "metadata": {},
   "outputs": [],
   "source": [
    "df = df.drop(columns=[\"SNDP_mm\"])"
   ]
  },
  {
   "cell_type": "code",
   "execution_count": 164,
   "metadata": {},
   "outputs": [],
   "source": [
    "df[\"BEGIN\"] = pd.to_datetime(df[\"BEGIN\"])\n",
    "df[\"END\"] = pd.to_datetime(df[\"END\"])\n",
    "df[\"DATE\"] = pd.to_datetime(df[\"DATE\"])"
   ]
  },
  {
   "cell_type": "code",
   "execution_count": 147,
   "metadata": {},
   "outputs": [
    {
     "name": "stdout",
     "output_type": "stream",
     "text": [
      "<class 'pandas.core.frame.DataFrame'>\n",
      "Int64Index: 1251795 entries, 0 to 2205582\n",
      "Data columns (total 26 columns):\n",
      " #   Column                Non-Null Count    Dtype         \n",
      "---  ------                --------------    -----         \n",
      " 0   USAF                  1251795 non-null  int64         \n",
      " 1   WBAN                  1251795 non-null  int64         \n",
      " 2   STATIONNAME           1251795 non-null  object        \n",
      " 3   COUNTRYNAME           1251795 non-null  object        \n",
      " 4   LAT                   1251795 non-null  float64       \n",
      " 5   LON                   1251795 non-null  float64       \n",
      " 6   BEGIN                 1251795 non-null  datetime64[ns]\n",
      " 7   END                   1251795 non-null  datetime64[ns]\n",
      " 8   TEMP_°C               1251410 non-null  float64       \n",
      " 9   DEWP_°C               1237958 non-null  float64       \n",
      " 10  SLP                   638600 non-null   float64       \n",
      " 11  STP                   548587 non-null   float64       \n",
      " 12  VISIB_km              924238 non-null   float64       \n",
      " 13  WDSP_km/h             1210963 non-null  float64       \n",
      " 14  MXSPD_km/h            1185086 non-null  float64       \n",
      " 15  GUST_km/h             327378 non-null   float64       \n",
      " 16  MAX_°C                1251410 non-null  float64       \n",
      " 17  MIN_°C                1251410 non-null  float64       \n",
      " 18  PRCP_mm               1088194 non-null  float64       \n",
      " 19  Fog                   1251410 non-null  object        \n",
      " 20  RainOrDrizzle         1251410 non-null  object        \n",
      " 21  SnowOrIcePellets      1251410 non-null  object        \n",
      " 22  Hail                  1251410 non-null  object        \n",
      " 23  Thunder               1251410 non-null  object        \n",
      " 24  TornadoOrFunnelCloud  1251410 non-null  object        \n",
      " 25  DATE                  1251410 non-null  datetime64[ns]\n",
      "dtypes: datetime64[ns](3), float64(13), int64(2), object(8)\n",
      "memory usage: 257.9+ MB\n"
     ]
    }
   ],
   "source": [
    "#Basic information\n",
    "df.info(verbose=True, max_cols=100)"
   ]
  },
  {
   "cell_type": "code",
   "execution_count": 148,
   "metadata": {},
   "outputs": [
    {
     "data": {
      "application/vnd.jupyter.widget-view+json": {
       "model_id": "4d1e6382bbfe4b7c89e631a827c77f14",
       "version_major": 2,
       "version_minor": 0
      },
      "text/plain": [
       "  0%|          | 0/6 [00:00<?, ?it/s]"
      ]
     },
     "metadata": {},
     "output_type": "display_data"
    },
    {
     "data": {
      "application/vnd.jupyter.widget-view+json": {
       "model_id": "dbbe2621ff34451abc4afaf25b888d3c",
       "version_major": 2,
       "version_minor": 0
      },
      "text/plain": [
       "  0%|          | 0/6 [00:00<?, ?it/s]"
      ]
     },
     "metadata": {},
     "output_type": "display_data"
    },
    {
     "data": {
      "application/vnd.jupyter.widget-view+json": {
       "model_id": "31d3755c46b54a52b1dfe6ea7ce450ba",
       "version_major": 2,
       "version_minor": 0
      },
      "text/plain": [
       "  0%|          | 0/6 [00:00<?, ?it/s]"
      ]
     },
     "metadata": {},
     "output_type": "display_data"
    },
    {
     "data": {
      "application/vnd.jupyter.widget-view+json": {
       "model_id": "c6a98dd21b3345afaded5875efe01c6a",
       "version_major": 2,
       "version_minor": 0
      },
      "text/plain": [
       "  0%|          | 0/6 [00:00<?, ?it/s]"
      ]
     },
     "metadata": {},
     "output_type": "display_data"
    },
    {
     "data": {
      "application/vnd.jupyter.widget-view+json": {
       "model_id": "c2a3318545994c63b829607199d7e166",
       "version_major": 2,
       "version_minor": 0
      },
      "text/plain": [
       "  0%|          | 0/6 [00:00<?, ?it/s]"
      ]
     },
     "metadata": {},
     "output_type": "display_data"
    },
    {
     "data": {
      "application/vnd.jupyter.widget-view+json": {
       "model_id": "37dc4153ad1a4ed2b4db68accf18efb4",
       "version_major": 2,
       "version_minor": 0
      },
      "text/plain": [
       "  0%|          | 0/6 [00:00<?, ?it/s]"
      ]
     },
     "metadata": {},
     "output_type": "display_data"
    },
    {
     "data": {
      "application/vnd.jupyter.widget-view+json": {
       "model_id": "4c0bdf517c314315a2cfef2b97c8e903",
       "version_major": 2,
       "version_minor": 0
      },
      "text/plain": [
       "  0%|          | 0/6 [00:00<?, ?it/s]"
      ]
     },
     "metadata": {},
     "output_type": "display_data"
    },
    {
     "data": {
      "application/vnd.jupyter.widget-view+json": {
       "model_id": "4a804d2a774744d2957764c61b7908a2",
       "version_major": 2,
       "version_minor": 0
      },
      "text/plain": [
       "  0%|          | 0/6 [00:00<?, ?it/s]"
      ]
     },
     "metadata": {},
     "output_type": "display_data"
    },
    {
     "data": {
      "application/vnd.jupyter.widget-view+json": {
       "model_id": "7aa6a732f6324000b0dad9cfdc0af2ea",
       "version_major": 2,
       "version_minor": 0
      },
      "text/plain": [
       "  0%|          | 0/6 [00:00<?, ?it/s]"
      ]
     },
     "metadata": {},
     "output_type": "display_data"
    },
    {
     "data": {
      "application/vnd.jupyter.widget-view+json": {
       "model_id": "d65efa05d34b40e0b29a8622d0ad2653",
       "version_major": 2,
       "version_minor": 0
      },
      "text/plain": [
       "  0%|          | 0/6 [00:00<?, ?it/s]"
      ]
     },
     "metadata": {},
     "output_type": "display_data"
    },
    {
     "data": {
      "application/vnd.jupyter.widget-view+json": {
       "model_id": "bc0e1fa2a17b49ae890fcccb3b1f35a9",
       "version_major": 2,
       "version_minor": 0
      },
      "text/plain": [
       "  0%|          | 0/6 [00:00<?, ?it/s]"
      ]
     },
     "metadata": {},
     "output_type": "display_data"
    },
    {
     "data": {
      "application/vnd.jupyter.widget-view+json": {
       "model_id": "29e8f5b6b16648ab8782256f290d717a",
       "version_major": 2,
       "version_minor": 0
      },
      "text/plain": [
       "  0%|          | 0/6 [00:00<?, ?it/s]"
      ]
     },
     "metadata": {},
     "output_type": "display_data"
    },
    {
     "data": {
      "application/vnd.jupyter.widget-view+json": {
       "model_id": "b98cc7d7578a46e0a4b5b3e90a606211",
       "version_major": 2,
       "version_minor": 0
      },
      "text/plain": [
       "  0%|          | 0/6 [00:00<?, ?it/s]"
      ]
     },
     "metadata": {},
     "output_type": "display_data"
    },
    {
     "data": {
      "application/vnd.jupyter.widget-view+json": {
       "model_id": "ba70d48cd4724674aa976ee1cc780c4f",
       "version_major": 2,
       "version_minor": 0
      },
      "text/plain": [
       "  0%|          | 0/6 [00:00<?, ?it/s]"
      ]
     },
     "metadata": {},
     "output_type": "display_data"
    },
    {
     "data": {
      "application/vnd.jupyter.widget-view+json": {
       "model_id": "e30aee70d0d244a0bb426dfcb635e6d4",
       "version_major": 2,
       "version_minor": 0
      },
      "text/plain": [
       "  0%|          | 0/6 [00:00<?, ?it/s]"
      ]
     },
     "metadata": {},
     "output_type": "display_data"
    },
    {
     "data": {
      "application/vnd.jupyter.widget-view+json": {
       "model_id": "78bca9c42fb14d97896f8a01fdc219cd",
       "version_major": 2,
       "version_minor": 0
      },
      "text/plain": [
       "100%|##########| 5/5 [00:00<?, ?it/s]"
      ]
     },
     "metadata": {},
     "output_type": "display_data"
    },
    {
     "data": {
      "application/vnd.jupyter.widget-view+json": {
       "model_id": "cf3d3c6e0a934a53ac4e716ff0fc4d4a",
       "version_major": 2,
       "version_minor": 0
      },
      "text/plain": [
       "  0%|          | 0/7 [00:00<?, ?it/s]"
      ]
     },
     "metadata": {},
     "output_type": "display_data"
    },
    {
     "data": {
      "application/vnd.jupyter.widget-view+json": {
       "model_id": "5e55b3858fde4dc1a422b2911892e2a1",
       "version_major": 2,
       "version_minor": 0
      },
      "text/plain": [
       "  0%|          | 0/7 [00:00<?, ?it/s]"
      ]
     },
     "metadata": {},
     "output_type": "display_data"
    },
    {
     "data": {
      "application/vnd.jupyter.widget-view+json": {
       "model_id": "9904681d55574a2dbc7bf40f70a7b395",
       "version_major": 2,
       "version_minor": 0
      },
      "text/plain": [
       "  0%|          | 0/7 [00:00<?, ?it/s]"
      ]
     },
     "metadata": {},
     "output_type": "display_data"
    },
    {
     "data": {
      "application/vnd.jupyter.widget-view+json": {
       "model_id": "8abacecff99b4c7b9fd5d785be49479b",
       "version_major": 2,
       "version_minor": 0
      },
      "text/plain": [
       "  0%|          | 0/7 [00:00<?, ?it/s]"
      ]
     },
     "metadata": {},
     "output_type": "display_data"
    },
    {
     "data": {
      "application/vnd.jupyter.widget-view+json": {
       "model_id": "d3b64202726941e6a6ec0f96d21c7b9d",
       "version_major": 2,
       "version_minor": 0
      },
      "text/plain": [
       "  0%|          | 0/7 [00:00<?, ?it/s]"
      ]
     },
     "metadata": {},
     "output_type": "display_data"
    },
    {
     "data": {
      "application/vnd.jupyter.widget-view+json": {
       "model_id": "f4798c24850349a597c151e49ec4bf2f",
       "version_major": 2,
       "version_minor": 0
      },
      "text/plain": [
       "  0%|          | 0/7 [00:00<?, ?it/s]"
      ]
     },
     "metadata": {},
     "output_type": "display_data"
    },
    {
     "data": {
      "application/vnd.jupyter.widget-view+json": {
       "model_id": "c76916379cf24751a3a24632a2c3cfc7",
       "version_major": 2,
       "version_minor": 0
      },
      "text/plain": [
       "  0%|          | 0/7 [00:00<?, ?it/s]"
      ]
     },
     "metadata": {},
     "output_type": "display_data"
    },
    {
     "data": {
      "application/vnd.jupyter.widget-view+json": {
       "model_id": "98ae70b71d144ff8aee08b797d6c1c3f",
       "version_major": 2,
       "version_minor": 0
      },
      "text/plain": [
       "  0%|          | 0/7 [00:00<?, ?it/s]"
      ]
     },
     "metadata": {},
     "output_type": "display_data"
    },
    {
     "data": {
      "application/vnd.jupyter.widget-view+json": {
       "model_id": "afbbf251782f465ab190868a27414fd5",
       "version_major": 2,
       "version_minor": 0
      },
      "text/plain": [
       "  0%|          | 0/7 [00:00<?, ?it/s]"
      ]
     },
     "metadata": {},
     "output_type": "display_data"
    },
    {
     "data": {
      "application/vnd.jupyter.widget-view+json": {
       "model_id": "e4b0a8f1a12c47aaad206af3bef53dc6",
       "version_major": 2,
       "version_minor": 0
      },
      "text/plain": [
       "  0%|          | 0/7 [00:00<?, ?it/s]"
      ]
     },
     "metadata": {},
     "output_type": "display_data"
    },
    {
     "data": {
      "application/vnd.jupyter.widget-view+json": {
       "model_id": "3dca2881a66a496aa771f919f75cb6bc",
       "version_major": 2,
       "version_minor": 0
      },
      "text/plain": [
       "  0%|          | 0/7 [00:00<?, ?it/s]"
      ]
     },
     "metadata": {},
     "output_type": "display_data"
    },
    {
     "data": {
      "application/vnd.jupyter.widget-view+json": {
       "model_id": "df5d9198258041e38efabdd4f19d24d8",
       "version_major": 2,
       "version_minor": 0
      },
      "text/plain": [
       "  0%|          | 0/7 [00:00<?, ?it/s]"
      ]
     },
     "metadata": {},
     "output_type": "display_data"
    },
    {
     "data": {
      "application/vnd.jupyter.widget-view+json": {
       "model_id": "58a37472dd8a425181680a4fe1884ff3",
       "version_major": 2,
       "version_minor": 0
      },
      "text/plain": [
       "  0%|          | 0/7 [00:00<?, ?it/s]"
      ]
     },
     "metadata": {},
     "output_type": "display_data"
    },
    {
     "data": {
      "application/vnd.jupyter.widget-view+json": {
       "model_id": "2fe84fec10014b079de913b0e7bb9617",
       "version_major": 2,
       "version_minor": 0
      },
      "text/plain": [
       "  0%|          | 0/7 [00:00<?, ?it/s]"
      ]
     },
     "metadata": {},
     "output_type": "display_data"
    },
    {
     "data": {
      "application/vnd.jupyter.widget-view+json": {
       "model_id": "679abb3e6d9b425aa893b13d7e0250df",
       "version_major": 2,
       "version_minor": 0
      },
      "text/plain": [
       "  0%|          | 0/7 [00:00<?, ?it/s]"
      ]
     },
     "metadata": {},
     "output_type": "display_data"
    },
    {
     "data": {
      "application/vnd.jupyter.widget-view+json": {
       "model_id": "7c7b540a31ea4f19b6b9491f4f2651f4",
       "version_major": 2,
       "version_minor": 0
      },
      "text/plain": [
       "  0%|          | 0/7 [00:00<?, ?it/s]"
      ]
     },
     "metadata": {},
     "output_type": "display_data"
    },
    {
     "data": {
      "application/vnd.jupyter.widget-view+json": {
       "model_id": "4b7909ee38ac45ca88d9d5d443fafcc1",
       "version_major": 2,
       "version_minor": 0
      },
      "text/plain": [
       "  0%|          | 0/7 [00:00<?, ?it/s]"
      ]
     },
     "metadata": {},
     "output_type": "display_data"
    },
    {
     "data": {
      "application/vnd.jupyter.widget-view+json": {
       "model_id": "13d75816184248a894d0c90b53cf011e",
       "version_major": 2,
       "version_minor": 0
      },
      "text/plain": [
       "  0%|          | 0/7 [00:00<?, ?it/s]"
      ]
     },
     "metadata": {},
     "output_type": "display_data"
    },
    {
     "data": {
      "application/vnd.jupyter.widget-view+json": {
       "model_id": "0a2db863180a407d9e87c46f2f14bb2e",
       "version_major": 2,
       "version_minor": 0
      },
      "text/plain": [
       "  0%|          | 0/7 [00:00<?, ?it/s]"
      ]
     },
     "metadata": {},
     "output_type": "display_data"
    },
    {
     "data": {
      "application/vnd.jupyter.widget-view+json": {
       "model_id": "89fa131d73ff4ca08cfbfaab7e10a8e6",
       "version_major": 2,
       "version_minor": 0
      },
      "text/plain": [
       "  0%|          | 0/7 [00:00<?, ?it/s]"
      ]
     },
     "metadata": {},
     "output_type": "display_data"
    },
    {
     "data": {
      "application/vnd.jupyter.widget-view+json": {
       "model_id": "dc38569c6ac34264ae7144ad86cf7cff",
       "version_major": 2,
       "version_minor": 0
      },
      "text/plain": [
       "  0%|          | 0/7 [00:00<?, ?it/s]"
      ]
     },
     "metadata": {},
     "output_type": "display_data"
    },
    {
     "data": {
      "application/vnd.jupyter.widget-view+json": {
       "model_id": "608085278ad849d1b0311fb447d463bf",
       "version_major": 2,
       "version_minor": 0
      },
      "text/plain": [
       "  0%|          | 0/7 [00:00<?, ?it/s]"
      ]
     },
     "metadata": {},
     "output_type": "display_data"
    },
    {
     "data": {
      "application/vnd.jupyter.widget-view+json": {
       "model_id": "ee6a1e3b35f04747bae6783e0cca0fa3",
       "version_major": 2,
       "version_minor": 0
      },
      "text/plain": [
       "  0%|          | 0/7 [00:00<?, ?it/s]"
      ]
     },
     "metadata": {},
     "output_type": "display_data"
    },
    {
     "data": {
      "application/vnd.jupyter.widget-view+json": {
       "model_id": "1b7084ff235d488fa302f20923f9dcd6",
       "version_major": 2,
       "version_minor": 0
      },
      "text/plain": [
       "  0%|          | 0/7 [00:00<?, ?it/s]"
      ]
     },
     "metadata": {},
     "output_type": "display_data"
    },
    {
     "data": {
      "application/vnd.jupyter.widget-view+json": {
       "model_id": "3b922256391b4077875d647318f58b62",
       "version_major": 2,
       "version_minor": 0
      },
      "text/plain": [
       "  0%|          | 0/7 [00:00<?, ?it/s]"
      ]
     },
     "metadata": {},
     "output_type": "display_data"
    },
    {
     "data": {
      "application/vnd.jupyter.widget-view+json": {
       "model_id": "6aaf93d15c9347908d55ed8b523ccce9",
       "version_major": 2,
       "version_minor": 0
      },
      "text/plain": [
       "  0%|          | 0/7 [00:00<?, ?it/s]"
      ]
     },
     "metadata": {},
     "output_type": "display_data"
    },
    {
     "data": {
      "application/vnd.jupyter.widget-view+json": {
       "model_id": "60f0246ed3cf453784465e88e8a8ae50",
       "version_major": 2,
       "version_minor": 0
      },
      "text/plain": [
       "  0%|          | 0/7 [00:00<?, ?it/s]"
      ]
     },
     "metadata": {},
     "output_type": "display_data"
    },
    {
     "data": {
      "application/vnd.jupyter.widget-view+json": {
       "model_id": "1a18ea95cf4a4b84abeb5477ac85772e",
       "version_major": 2,
       "version_minor": 0
      },
      "text/plain": [
       "  0%|          | 0/7 [00:00<?, ?it/s]"
      ]
     },
     "metadata": {},
     "output_type": "display_data"
    },
    {
     "data": {
      "application/vnd.jupyter.widget-view+json": {
       "model_id": "d68d5dbcb50f461882c4bb9214305817",
       "version_major": 2,
       "version_minor": 0
      },
      "text/plain": [
       "  0%|          | 0/7499 [00:00<?, ?it/s]"
      ]
     },
     "metadata": {},
     "output_type": "display_data"
    }
   ],
   "source": [
    "create_report(df).show_browser()"
   ]
  },
  {
   "attachments": {},
   "cell_type": "markdown",
   "metadata": {},
   "source": [
    "# Część główna EDA"
   ]
  },
  {
   "attachments": {},
   "cell_type": "markdown",
   "metadata": {},
   "source": [
    "Część danych nie posiada pola DATE. Rekordy te trzeba usunąć, ponieważ nie wnoszą one informacji o szeregu czasowym."
   ]
  },
  {
   "cell_type": "code",
   "execution_count": 165,
   "metadata": {},
   "outputs": [
    {
     "name": "stdout",
     "output_type": "stream",
     "text": [
      "Ilość rekordów bez znacznika czasu: 385\n",
      "Jaki jest to procent wszystkich rekordów?: 0.031%\n"
     ]
    }
   ],
   "source": [
    "print(\"Ilość rekordów bez znacznika czasu: {0}\".format(len(df[df[\"DATE\"].isna()])))\n",
    "print(\"Jaki jest to procent wszystkich rekordów?: {0:.3f}%\".format(len(df[df[\"DATE\"].isna()])/len(df) * 100))\n",
    "df = df.dropna(subset=[\"DATE\"])"
   ]
  },
  {
   "attachments": {
    "image-2.png": {
     "image/png": "[encoded data removed]"
    }
   },
   "cell_type": "markdown",
   "metadata": {},
   "source": [
    "Niestety ilość obserwacji w stosunku do kraju jest niezbalansowana. Najwięcej rekordów istnieje dla Brazylii.\n",
    "\n",
    "![image.png](attachment:image-2.png)"
   ]
  },
  {
   "attachments": {},
   "cell_type": "markdown",
   "metadata": {},
   "source": [
    "### Jaki jest zakres znaczników czasowych dla każdego z krajów?"
   ]
  },
  {
   "cell_type": "code",
   "execution_count": 206,
   "metadata": {},
   "outputs": [
    {
     "data": {
      "text/plain": [
       "{'BRAZIL': [('2000-01-01', '2023-03-17')],\n",
       " 'CAMEROON': [('2000-01-01', '2023-03-17')],\n",
       " 'GHANA': [('2000-01-02', '2023-03-17')],\n",
       " \"COTE D'IVOIRE\": [('2000-01-01', '2023-03-17')]}"
      ]
     },
     "execution_count": 206,
     "metadata": {},
     "output_type": "execute_result"
    }
   ],
   "source": [
    "dict_time_availability = {country: [(df[df[\"COUNTRYNAME\"] == country][\"DATE\"].min().date().strftime(\"%Y-%m-%d\"), df[df[\"COUNTRYNAME\"] == country][\"DATE\"].max().date().strftime(\"%Y-%m-%d\"))] for country in df[\"COUNTRYNAME\"].unique()}\n",
    "dict_time_availability"
   ]
  },
  {
   "attachments": {
    "image-2.png": {
     "image/png": "[encoded data removed]"
    }
   },
   "cell_type": "markdown",
   "metadata": {},
   "source": [
    "Pola: DEWP_°C, SLP, STP, VSIB_km, WDSP_km/h, MXSPD_km/h, GUST_km/h, PRCP_mm zawierają puste wartości. Poniżej znajduje się lista uszeregowanych pól pod względem wartości procentowej pustych wartości (od największego do najmniejszego) do całego zbioru danych oraz wykres słupkowy przedstawiający ilość pustych oraz nie-pustych wartości.\n",
    "\n",
    "* GUST_km/h - 73.85%\n",
    "* STP - 56.18%\n",
    "* SLP - 48.99%\n",
    "* VISIB_km - 26.17%\n",
    "* PRCP_mm - 13.07%\n",
    "* MXSPD_km/h - 5.33%\n",
    "* WDSP_km/h - 3.26%\n",
    "* DEWP_°C - 1.11%\n",
    "\n",
    "![image.png](attachment:image-2.png)\n",
    "\n",
    "Należy sprawdzić jaka jest dostępność w kontekście znaczników czasu oraz krajów dla poszczególnych pól."
   ]
  },
  {
   "cell_type": "code",
   "execution_count": 152,
   "metadata": {},
   "outputs": [
    {
     "name": "stdout",
     "output_type": "stream",
     "text": [
      "**************************************\n",
      "GUST_km/h\n",
      "BRAZIL\n",
      "Ilość pustych wartości dla GUST_km/h: 734762\n",
      "Procent pustych wartości w stosunku do wszystkich:  69.304%\n",
      "CAMEROON\n",
      "Ilość pustych wartości dla GUST_km/h: 29648\n",
      "Procent pustych wartości w stosunku do wszystkich:  95.998%\n",
      "GHANA\n",
      "Ilość pustych wartości dla GUST_km/h: 76696\n",
      "Procent pustych wartości w stosunku do wszystkich:  99.852%\n",
      "COTE D'IVOIRE\n",
      "Ilość pustych wartości dla GUST_km/h: 82926\n",
      "Procent pustych wartości w stosunku do wszystkich:  99.290%\n",
      "**************************************\n",
      "STP\n",
      "BRAZIL\n",
      "Ilość pustych wartości dla STP: 594543\n",
      "Procent pustych wartości w stosunku do wszystkich:  56.079%\n",
      "CAMEROON\n",
      "Ilość pustych wartości dla STP: 14245\n",
      "Procent pustych wartości w stosunku do wszystkich:  46.124%\n",
      "GHANA\n",
      "Ilość pustych wartości dla STP: 76810\n",
      "Procent pustych wartości w stosunku do wszystkich:  100.000%\n",
      "COTE D'IVOIRE\n",
      "Ilość pustych wartości dla STP: 17225\n",
      "Procent pustych wartości w stosunku do wszystkich:  20.624%\n",
      "**************************************\n",
      "SLP\n",
      "BRAZIL\n",
      "Ilość pustych wartości dla SLP: 571646\n",
      "Procent pustych wartości w stosunku do wszystkich:  53.919%\n",
      "CAMEROON\n",
      "Ilość pustych wartości dla SLP: 18630\n",
      "Procent pustych wartości w stosunku do wszystkich:  60.322%\n",
      "GHANA\n",
      "Ilość pustych wartości dla SLP: 5463\n",
      "Procent pustych wartości w stosunku do wszystkich:  7.112%\n",
      "COTE D'IVOIRE\n",
      "Ilość pustych wartości dla SLP: 17071\n",
      "Procent pustych wartości w stosunku do wszystkich:  20.440%\n",
      "**************************************\n",
      "VISIB_km\n",
      "BRAZIL\n",
      "Ilość pustych wartości dla VISIB_km: 326826\n",
      "Procent pustych wartości w stosunku do wszystkich:  30.827%\n",
      "CAMEROON\n",
      "Ilość pustych wartości dla VISIB_km: 198\n",
      "Procent pustych wartości w stosunku do wszystkich:  0.641%\n",
      "GHANA\n",
      "Ilość pustych wartości dla VISIB_km: 121\n",
      "Procent pustych wartości w stosunku do wszystkich:  0.158%\n",
      "COTE D'IVOIRE\n",
      "Ilość pustych wartości dla VISIB_km: 27\n",
      "Procent pustych wartości w stosunku do wszystkich:  0.032%\n",
      "**************************************\n",
      "PRCP_mm\n",
      "BRAZIL\n",
      "Ilość pustych wartości dla PRCP_mm: 155748\n",
      "Procent pustych wartości w stosunku do wszystkich:  14.690%\n",
      "CAMEROON\n",
      "Ilość pustych wartości dla PRCP_mm: 3870\n",
      "Procent pustych wartości w stosunku do wszystkich:  12.531%\n",
      "GHANA\n",
      "Ilość pustych wartości dla PRCP_mm: 1583\n",
      "Procent pustych wartości w stosunku do wszystkich:  2.061%\n",
      "COTE D'IVOIRE\n",
      "Ilość pustych wartości dla PRCP_mm: 2015\n",
      "Procent pustych wartości w stosunku do wszystkich:  2.413%\n",
      "**************************************\n",
      "MXSPD_km/h\n",
      "BRAZIL\n",
      "Ilość pustych wartości dla MXSPD_km/h: 28613\n",
      "Procent pustych wartości w stosunku do wszystkich:  2.699%\n",
      "CAMEROON\n",
      "Ilość pustych wartości dla MXSPD_km/h: 864\n",
      "Procent pustych wartości w stosunku do wszystkich:  2.798%\n",
      "GHANA\n",
      "Ilość pustych wartości dla MXSPD_km/h: 431\n",
      "Procent pustych wartości w stosunku do wszystkich:  0.561%\n",
      "COTE D'IVOIRE\n",
      "Ilość pustych wartości dla MXSPD_km/h: 36416\n",
      "Procent pustych wartości w stosunku do wszystkich:  43.602%\n",
      "**************************************\n",
      "MXSPD_km/h\n",
      "BRAZIL\n",
      "Ilość pustych wartości dla MXSPD_km/h: 28613\n",
      "Procent pustych wartości w stosunku do wszystkich:  2.699%\n",
      "CAMEROON\n",
      "Ilość pustych wartości dla MXSPD_km/h: 864\n",
      "Procent pustych wartości w stosunku do wszystkich:  2.798%\n",
      "GHANA\n",
      "Ilość pustych wartości dla MXSPD_km/h: 431\n",
      "Procent pustych wartości w stosunku do wszystkich:  0.561%\n",
      "COTE D'IVOIRE\n",
      "Ilość pustych wartości dla MXSPD_km/h: 36416\n",
      "Procent pustych wartości w stosunku do wszystkich:  43.602%\n",
      "**************************************\n",
      "WDSP_km/h\n",
      "BRAZIL\n",
      "Ilość pustych wartości dla WDSP_km/h: 15054\n",
      "Procent pustych wartości w stosunku do wszystkich:  1.420%\n",
      "CAMEROON\n",
      "Ilość pustych wartości dla WDSP_km/h: 664\n",
      "Procent pustych wartości w stosunku do wszystkich:  2.150%\n",
      "GHANA\n",
      "Ilość pustych wartości dla WDSP_km/h: 99\n",
      "Procent pustych wartości w stosunku do wszystkich:  0.129%\n",
      "COTE D'IVOIRE\n",
      "Ilość pustych wartości dla WDSP_km/h: 24630\n",
      "Procent pustych wartości w stosunku do wszystkich:  29.490%\n",
      "**************************************\n",
      "DEWP_°C\n",
      "BRAZIL\n",
      "Ilość pustych wartości dla DEWP_°C: 12269\n",
      "Procent pustych wartości w stosunku do wszystkich:  1.157%\n",
      "CAMEROON\n",
      "Ilość pustych wartości dla DEWP_°C: 370\n",
      "Procent pustych wartości w stosunku do wszystkich:  1.198%\n",
      "GHANA\n",
      "Ilość pustych wartości dla DEWP_°C: 534\n",
      "Procent pustych wartości w stosunku do wszystkich:  0.695%\n",
      "COTE D'IVOIRE\n",
      "Ilość pustych wartości dla DEWP_°C: 279\n",
      "Procent pustych wartości w stosunku do wszystkich:  0.334%\n"
     ]
    }
   ],
   "source": [
    "import warnings\n",
    "warnings.filterwarnings(\"ignore\")\n",
    "\n",
    "for field in [\"GUST_km/h\", \"STP\", \"SLP\", \"VISIB_km\", \"PRCP_mm\", \"MXSPD_km/h\", \"WDSP_km/h\", \"DEWP_°C\"]:\n",
    "    print(\"**************************************\")\n",
    "    print(field)\n",
    "    # fig, axes = plt.subplots(nrows=2, ncols=2, figsize=(12, 8))\n",
    "    # fig.suptitle(\"Time series for {0} field with null values included.\".format(field))\n",
    "    # plt.subplots_adjust(hspace=0.5)\n",
    "    # axes_flat = [axes[0][0], axes[0][1], axes[1][0], axes[1][1]]\n",
    "    for i, country in enumerate(df[df[field].isna()][\"COUNTRYNAME\"].unique()):\n",
    "        print(country)\n",
    "        print(\"Ilość pustych wartości dla {0}: {1}\".format(field, len(df[df[field].isna()][df[\"COUNTRYNAME\"] == country])))\n",
    "        print(\"Procent pustych wartości w stosunku do wszystkich: {0: .3f}%\".format(len(df[df[field].isna()][df[\"COUNTRYNAME\"] == country])/len(df[df[\"COUNTRYNAME\"] == country])*100))\n",
    "    #     df[df[\"COUNTRYNAME\"] == country].plot(x=\"DATE\", y=field, title=country, ax=axes_flat[i])\n",
    "    # fig.savefig(\".\\charts\\EDA_NOAA\\{0}_time_with_nulls.png\".format(field.split('_', 1)[0]))"
   ]
  },
  {
   "attachments": {},
   "cell_type": "markdown",
   "metadata": {},
   "source": [
    "Pola GUST_km/h oraz STP powinny zostać usunięte, ponieważ dla każdego kraju procent wartości pustych przekracza 20%.\n",
    "\n",
    "Pole SLP może zostać użyte jedynie dla terytorium Ghany, ponieważ procent pustych wartości wynosi tam około 7%.\n",
    "\n",
    "Pole VISIB_km nie może zostać użyte dla Brazylii, ponieważ procent pustych wartości wynosi około 31%.\n",
    "\n",
    "Pole PRCP_mm może zostać użyte dla całego zbioru, ponieważ procent pustych wartości dla każdego kraju wynosi mniej niż 20%.\n",
    "\n",
    "Pole MXSPD_km/h nie może zostać użyte dla Cote d'ivoire, ponieważ procent pustych wartości dla tego kraju wynosi powyżej 43%.\n",
    "\n",
    "Pole WDSP_km/h nie może zostać użyte dla Cote d'ivoire, ponieważ procent pustych wartości dla tego kraju wynosi powyżej 29%.\n",
    "\n",
    "Pole DEWP_°C może zostać użyte dla wszystkich krajów, ponieważ procent pustych wartości dla każdego kraju wynosi mniej niż 20%.\n",
    "\n",
    "**Ostatecznie** polami, które mogą być zachowane są PRCP_mm oraz DEWP_°C. Brakujące wartości mogą zostać uzupełnione w drodze interpolacji lub z wykorzystaniem prostych modeli uczenia maszynowego.\n",
    "\n",
    "Wykresy dla poszczególnych pól znajdują się w ścieżce ./charts/EDA_NOAA/..."
   ]
  },
  {
   "cell_type": "code",
   "execution_count": 166,
   "metadata": {},
   "outputs": [],
   "source": [
    "df = df.drop(columns=[\"GUST_km/h\", \"STP\", \"SLP\", \"VISIB_km\", \"MXSPD_km/h\", \"WDSP_km/h\"])"
   ]
  },
  {
   "cell_type": "code",
   "execution_count": 167,
   "metadata": {},
   "outputs": [
    {
     "name": "stdout",
     "output_type": "stream",
     "text": [
      "<class 'pandas.core.frame.DataFrame'>\n",
      "Int64Index: 1251410 entries, 8 to 2205582\n",
      "Data columns (total 20 columns):\n",
      " #   Column                Non-Null Count    Dtype         \n",
      "---  ------                --------------    -----         \n",
      " 0   USAF                  1251410 non-null  int64         \n",
      " 1   WBAN                  1251410 non-null  int64         \n",
      " 2   STATIONNAME           1251410 non-null  object        \n",
      " 3   COUNTRYNAME           1251410 non-null  object        \n",
      " 4   LAT                   1251410 non-null  float64       \n",
      " 5   LON                   1251410 non-null  float64       \n",
      " 6   BEGIN                 1251410 non-null  datetime64[ns]\n",
      " 7   END                   1251410 non-null  datetime64[ns]\n",
      " 8   TEMP_°C               1251410 non-null  float64       \n",
      " 9   DEWP_°C               1237958 non-null  float64       \n",
      " 10  MAX_°C                1251410 non-null  float64       \n",
      " 11  MIN_°C                1251410 non-null  float64       \n",
      " 12  PRCP_mm               1088194 non-null  float64       \n",
      " 13  Fog                   1251410 non-null  object        \n",
      " 14  RainOrDrizzle         1251410 non-null  object        \n",
      " 15  SnowOrIcePellets      1251410 non-null  object        \n",
      " 16  Hail                  1251410 non-null  object        \n",
      " 17  Thunder               1251410 non-null  object        \n",
      " 18  TornadoOrFunnelCloud  1251410 non-null  object        \n",
      " 19  DATE                  1251410 non-null  datetime64[ns]\n",
      "dtypes: datetime64[ns](3), float64(7), int64(2), object(8)\n",
      "memory usage: 200.5+ MB\n"
     ]
    }
   ],
   "source": [
    "df.info()"
   ]
  },
  {
   "attachments": {},
   "cell_type": "markdown",
   "metadata": {},
   "source": [
    "### Przegląd pól kategorycznych niebędących metadanymi"
   ]
  },
  {
   "cell_type": "code",
   "execution_count": 203,
   "metadata": {},
   "outputs": [
    {
     "name": "stdout",
     "output_type": "stream",
     "text": [
      "***************************\n",
      "Fog\n",
      "BRAZIL\n",
      "Percent of False:  96.582% | Percent of True:  3.418%\n",
      "CAMEROON\n",
      "Percent of False:  96.565% | Percent of True:  3.435%\n",
      "GHANA\n",
      "Percent of False:  97.976% | Percent of True:  2.024%\n",
      "COTE D'IVOIRE\n",
      "Percent of False:  94.191% | Percent of True:  5.809%\n",
      "***************************\n",
      "RainOrDrizzle\n",
      "BRAZIL\n",
      "Percent of False:  76.433% | Percent of True:  23.567%\n",
      "CAMEROON\n",
      "Percent of False:  68.113% | Percent of True:  31.887%\n",
      "GHANA\n",
      "Percent of False:  85.258% | Percent of True:  14.742%\n",
      "COTE D'IVOIRE\n",
      "Percent of False:  75.384% | Percent of True:  24.616%\n",
      "***************************\n",
      "SnowOrIcePellets\n",
      "BRAZIL\n",
      "Percent of False:  99.991% | Percent of True:  0.009%\n",
      "CAMEROON\n",
      "Percent of False:  99.974% | Percent of True:  0.026%\n",
      "GHANA\n",
      "Percent of False:  99.962% | Percent of True:  0.038%\n",
      "COTE D'IVOIRE\n",
      "Percent of False:  99.872% | Percent of True:  0.128%\n",
      "***************************\n",
      "Hail\n",
      "BRAZIL\n",
      "Percent of False:  99.970% | Percent of True:  0.030%\n",
      "CAMEROON\n",
      "Percent of False:  99.935% | Percent of True:  0.065%\n",
      "GHANA\n",
      "Percent of False:  99.919% | Percent of True:  0.081%\n",
      "COTE D'IVOIRE\n",
      "Percent of False:  99.855% | Percent of True:  0.145%\n",
      "***************************\n",
      "Thunder\n",
      "BRAZIL\n",
      "Percent of False:  87.744% | Percent of True:  12.256%\n",
      "CAMEROON\n",
      "Percent of False:  53.724% | Percent of True:  46.276%\n",
      "GHANA\n",
      "Percent of False:  80.281% | Percent of True:  19.719%\n",
      "COTE D'IVOIRE\n",
      "Percent of False:  72.710% | Percent of True:  27.290%\n",
      "***************************\n",
      "TornadoOrFunnelCloud\n",
      "BRAZIL\n",
      "Percent of False:  99.997% | Percent of True:  0.003%\n",
      "CAMEROON\n",
      "Percent of False:  99.848% | Percent of True:  0.152%\n",
      "GHANA\n",
      "Percent of False:  99.978% | Percent of True:  0.022%\n",
      "COTE D'IVOIRE\n",
      "Percent of False:  99.889% | Percent of True:  0.111%\n"
     ]
    }
   ],
   "source": [
    "for field in [\"Fog\", \"RainOrDrizzle\", \"SnowOrIcePellets\", \"Hail\", \"Thunder\", \"TornadoOrFunnelCloud\"]:\n",
    "    print(\"***************************\")\n",
    "    print(field)\n",
    "    for i, country in enumerate(df[\"COUNTRYNAME\"].unique()):\n",
    "        print(country)\n",
    "        print(\"Percent of False: {0: .3f}% | Percent of True: {1: .3f}%\".format(len(df[df[\"COUNTRYNAME\"] == country][df[field] == False])/len(df[df[\"COUNTRYNAME\"] == country])*100, \n",
    "                                                                                len(df[df[\"COUNTRYNAME\"] == country][df[field] == True])/len(df[df[\"COUNTRYNAME\"] == country])*100))"
   ]
  },
  {
   "attachments": {},
   "cell_type": "markdown",
   "metadata": {},
   "source": [
    "Wartości kategoryczne w badanym zbiorze danych cechują się dużym niezbalansowaniem. Znaczną większość wartości stanowi logiczne False, co mogłoby źle wpłynąć na wiarygodność skuteczności przyszłych modeli. Jedynymi polami, które mogłyby nadawać się do użycia są RainOrDrizzle oraz Thunder (przede wszystkim dla kraju Cameroon), ponieważ dysproporcja w przypadku tych pól wynosi (False:True) od 85:15 do nawet 46:54."
   ]
  },
  {
   "cell_type": "code",
   "execution_count": 202,
   "metadata": {},
   "outputs": [
    {
     "data": {
      "image/png": "[encoded data removed]",
      "text/plain": [
       "<Figure size 1200x800 with 4 Axes>"
      ]
     },
     "metadata": {},
     "output_type": "display_data"
    },
    {
     "data": {
      "image/png": "[encoded data removed]",
      "text/plain": [
       "<Figure size 1200x800 with 4 Axes>"
      ]
     },
     "metadata": {},
     "output_type": "display_data"
    },
    {
     "data": {
      "image/png": "[encoded data removed]",
      "text/plain": [
       "<Figure size 1200x800 with 4 Axes>"
      ]
     },
     "metadata": {},
     "output_type": "display_data"
    },
    {
     "data": {
      "image/png": "[encoded data removed]",
      "text/plain": [
       "<Figure size 1200x800 with 4 Axes>"
      ]
     },
     "metadata": {},
     "output_type": "display_data"
    },
    {
     "data": {
      "image/png": "[encoded data removed]",
      "text/plain": [
       "<Figure size 1200x800 with 4 Axes>"
      ]
     },
     "metadata": {},
     "output_type": "display_data"
    },
    {
     "data": {
      "image/png": "[encoded data removed]",
      "text/plain": [
       "<Figure size 1200x800 with 4 Axes>"
      ]
     },
     "metadata": {},
     "output_type": "display_data"
    }
   ],
   "source": [
    "\n",
    "for field in [\"Fog\", \"RainOrDrizzle\", \"SnowOrIcePellets\", \"Hail\", \"Thunder\", \"TornadoOrFunnelCloud\"]:\n",
    "    fig, axes = plt.subplots(nrows=2, ncols=2, figsize=(12, 8))\n",
    "    fig.suptitle(\"Count of categorical values - {0}\".format(field))\n",
    "    plt.subplots_adjust(hspace=0.5)\n",
    "    axes_flat = [axes[0][0], axes[0][1], axes[1][0], axes[1][1]]\n",
    "    for i, country in enumerate(df[\"COUNTRYNAME\"].unique()):\n",
    "        axes_flat[i].bar(x=np.arange(len(df[field].unique())), height=[len(df[df[\"COUNTRYNAME\"] == country][df[field] == df[field].unique()[0]]), \n",
    "                                            len(df[df[\"COUNTRYNAME\"] == country][df[field] == df[field].unique()[1]])])\n",
    "        axes_flat[i].set_title(country)\n",
    "        axes_flat[i].set_xlabel(\"Values\")\n",
    "        axes_flat[i].set_ylabel(\"Count\")\n",
    "        axes_flat[i].set_xticks(np.arange(len(df[\"Fog\"].unique())), df[\"Fog\"].unique())\n",
    "    fig.savefig(\".\\charts\\EDA_NOAA\\Categorical\\{0}_values_count.png\".format(field))"
   ]
  },
  {
   "cell_type": "code",
   "execution_count": 207,
   "metadata": {},
   "outputs": [],
   "source": [
    "df = df.drop(columns=[\"Fog\", \"SnowOrIcePellets\", \"Hail\", \"TornadoOrFunnelCloud\"])"
   ]
  },
  {
   "cell_type": "code",
   "execution_count": 208,
   "metadata": {},
   "outputs": [
    {
     "name": "stdout",
     "output_type": "stream",
     "text": [
      "<class 'pandas.core.frame.DataFrame'>\n",
      "Int64Index: 1251410 entries, 8 to 2205582\n",
      "Data columns (total 16 columns):\n",
      " #   Column         Non-Null Count    Dtype         \n",
      "---  ------         --------------    -----         \n",
      " 0   USAF           1251410 non-null  int64         \n",
      " 1   WBAN           1251410 non-null  int64         \n",
      " 2   STATIONNAME    1251410 non-null  object        \n",
      " 3   COUNTRYNAME    1251410 non-null  object        \n",
      " 4   LAT            1251410 non-null  float64       \n",
      " 5   LON            1251410 non-null  float64       \n",
      " 6   BEGIN          1251410 non-null  datetime64[ns]\n",
      " 7   END            1251410 non-null  datetime64[ns]\n",
      " 8   TEMP_°C        1251410 non-null  float64       \n",
      " 9   DEWP_°C        1237958 non-null  float64       \n",
      " 10  MAX_°C         1251410 non-null  float64       \n",
      " 11  MIN_°C         1251410 non-null  float64       \n",
      " 12  PRCP_mm        1088194 non-null  float64       \n",
      " 13  RainOrDrizzle  1251410 non-null  object        \n",
      " 14  Thunder        1251410 non-null  object        \n",
      " 15  DATE           1251410 non-null  datetime64[ns]\n",
      "dtypes: datetime64[ns](3), float64(7), int64(2), object(4)\n",
      "memory usage: 194.6+ MB\n"
     ]
    }
   ],
   "source": [
    "df.info()"
   ]
  },
  {
   "attachments": {},
   "cell_type": "markdown",
   "metadata": {},
   "source": [
    "Co do zrobienia?\n",
    "* Interpolacja DEWP oraz PRCP\n",
    "* Sprawdzenie korelacji (podejrzane MAX oraz MIN)\n",
    "* Transformacja do danych miesięcznych\n",
    "* Oczyszczenie do postaci danych gotowych dla modeli"
   ]
  }
 ],
 "metadata": {
  "kernelspec": {
   "display_name": "venv-cocoa-yield-forecast",
   "language": "python",
   "name": "python3"
  },
  "language_info": {
   "codemirror_mode": {
    "name": "ipython",
    "version": 3
   },
   "file_extension": ".py",
   "mimetype": "text/x-python",
   "name": "python",
   "nbconvert_exporter": "python",
   "pygments_lexer": "ipython3",
   "version": "3.9.16"
  },
  "orig_nbformat": 4
 },
 "nbformat": 4,
 "nbformat_minor": 2
}
