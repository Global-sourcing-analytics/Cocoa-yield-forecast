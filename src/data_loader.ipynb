{
 "cells": [
  {
   "cell_type": "code",
   "execution_count": 1,
   "metadata": {},
   "outputs": [],
   "source": [
    "import pandas as pd\n",
    "\n",
    "from BC_solutions import Databases"
   ]
  },
  {
   "cell_type": "code",
   "execution_count": 2,
   "metadata": {},
   "outputs": [
    {
     "name": "stdout",
     "output_type": "stream",
     "text": [
      "POD POD2019\n",
      "Connection with database established.\n"
     ]
    }
   ],
   "source": [
    "# Database credentials\n",
    "server = 'CorpPolDB'\n",
    "database = 'DW'\n",
    "UID = 'POD'\n",
    "PWD = 'POD2019'\n",
    "\n",
    "database_manager = Databases.DatabaseManager(server, database, UID, PWD)"
   ]
  },
  {
   "attachments": {},
   "cell_type": "markdown",
   "metadata": {},
   "source": [
    "## Dane zbiorów kakaowca\n",
    "## Cocoa crop data"
   ]
  },
  {
   "cell_type": "code",
   "execution_count": 3,
   "metadata": {},
   "outputs": [],
   "source": [
    "df_pod = database_manager.get_data('SELECT * FROM [DW].[pod].[v_POD]')"
   ]
  },
  {
   "cell_type": "code",
   "execution_count": 9,
   "metadata": {},
   "outputs": [],
   "source": [
    "df_pod.to_csv('POD_raw.csv', index=False)"
   ]
  },
  {
   "cell_type": "code",
   "execution_count": 6,
   "metadata": {},
   "outputs": [
    {
     "data": {
      "text/plain": [
       "array(['Cote d Ivoire', 'Ghana', 'Indonesia', 'Cameroon', 'Brazil',\n",
       "       'Ecuador'], dtype=object)"
      ]
     },
     "execution_count": 6,
     "metadata": {},
     "output_type": "execute_result"
    }
   ],
   "source": [
    "df_pod['Country'].unique()"
   ]
  },
  {
   "attachments": {},
   "cell_type": "markdown",
   "metadata": {},
   "source": [
    "## Dane pogodowe NOAA\n",
    "## NOAA weather data"
   ]
  },
  {
   "cell_type": "code",
   "execution_count": 7,
   "metadata": {},
   "outputs": [],
   "source": [
    "df_NOAA = database_manager.get_data(\"SELECT * FROM [DW].[noaa].[v_StationData] \\\n",
    "                               WHERE COUNTRYNAME IN ('BRAZIL', 'CAMEROON', 'COTE D''IVOIRE', 'ECUADOR', 'GHANA', 'INDONESIA')\")"
   ]
  },
  {
   "cell_type": "code",
   "execution_count": 10,
   "metadata": {},
   "outputs": [],
   "source": [
    "df_NOAA.to_csv('NOAA_raw.csv', index=False)"
   ]
  }
 ],
 "metadata": {
  "kernelspec": {
   "display_name": "venv39ML",
   "language": "python",
   "name": "python3"
  },
  "language_info": {
   "codemirror_mode": {
    "name": "ipython",
    "version": 3
   },
   "file_extension": ".py",
   "mimetype": "text/x-python",
   "name": "python",
   "nbconvert_exporter": "python",
   "pygments_lexer": "ipython3",
   "version": "3.9.16"
  },
  "orig_nbformat": 4
 },
 "nbformat": 4,
 "nbformat_minor": 2
}
